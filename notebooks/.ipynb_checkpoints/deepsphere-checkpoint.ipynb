{
 "cells": [
  {
   "cell_type": "code",
   "execution_count": 4,
   "metadata": {},
   "outputs": [],
   "source": [
    "import numpy as np\n",
    "import healpy as hp\n",
    "import matplotlib.pyplot as plt\n",
    "\n",
    "%matplotlib inline\n",
    "%load_ext autoreload\n",
    "%autoreload 2"
   ]
  },
  {
   "cell_type": "code",
   "execution_count": 5,
   "metadata": {},
   "outputs": [],
   "source": [
    "import sys\n",
    "sys.path.append(\"../\")"
   ]
  },
  {
   "cell_type": "code",
   "execution_count": 6,
   "metadata": {},
   "outputs": [
    {
     "name": "stderr",
     "output_type": "stream",
     "text": [
      "/home/sm8383/anaconda3/lib/python3.8/site-packages/PyGSP-0.5.1-py3.8.egg/pygsp/filters/simpletight.py:76: SyntaxWarning: \"is\" with a literal. Did you mean \"==\"?\n",
      "/home/sm8383/anaconda3/lib/python3.8/site-packages/PyGSP-0.5.1-py3.8.egg/pygsp/filters/simpletight.py:79: SyntaxWarning: \"is\" with a literal. Did you mean \"==\"?\n",
      "/home/sm8383/anaconda3/lib/python3.8/site-packages/PyGSP-0.5.1-py3.8.egg/pygsp/filters/simpletight.py:76: SyntaxWarning: \"is\" with a literal. Did you mean \"==\"?\n",
      "/home/sm8383/anaconda3/lib/python3.8/site-packages/PyGSP-0.5.1-py3.8.egg/pygsp/filters/simpletight.py:79: SyntaxWarning: \"is\" with a literal. Did you mean \"==\"?\n"
     ]
    }
   ],
   "source": [
    "import torch\n",
    "from torch import nn\n",
    "\n",
    "from models.embedding import SphericalGraphCNN"
   ]
  },
  {
   "cell_type": "code",
   "execution_count": 7,
   "metadata": {},
   "outputs": [],
   "source": [
    "nside_list = [128, 64, 32, 16, 8, 4, 2]"
   ]
  },
  {
   "cell_type": "code",
   "execution_count": 8,
   "metadata": {},
   "outputs": [],
   "source": [
    "sys.path.append(\"../../fermi-gce-gp/\")\n",
    "from utils import create_mask as cm\n",
    "\n",
    "hp_mask_nside1 = cm.make_mask_total(nside=1, band_mask = True, band_mask_range = 0,\n",
    "                              mask_ring = True, inner = 0, outer = 25)\n",
    "\n",
    "indexes_list = []\n",
    "masks_list = []\n",
    "for nside in nside_list:\n",
    "    hp_mask = hp.ud_grade(hp_mask_nside1, nside)\n",
    "    masks_list.append(hp_mask)\n",
    "    indexes_list.append(np.arange(hp.nside2npix(nside))[~hp_mask])"
   ]
  },
  {
   "cell_type": "code",
   "execution_count": 9,
   "metadata": {},
   "outputs": [
    {
     "data": {
      "text/plain": [
       "array([ True,  True,  True, ...,  True,  True,  True])"
      ]
     },
     "execution_count": 9,
     "metadata": {},
     "output_type": "execute_result"
    }
   ],
   "source": [
    "ps_mask = np.load(\"../../fermi-gce-gp/data/mask_3fgl_0p8deg.npy\")\n",
    "hp_mask = cm.make_mask_total(nside=128, band_mask = True, band_mask_range = 0,\n",
    "                              mask_ring = True, inner = 0, outer = 25, custom_mask=ps_mask)\n",
    "hp_mask"
   ]
  },
  {
   "cell_type": "code",
   "execution_count": 10,
   "metadata": {},
   "outputs": [
    {
     "data": {
      "text/plain": [
       "torch.Size([1, 16384, 1])"
      ]
     },
     "execution_count": 10,
     "metadata": {},
     "output_type": "execute_result"
    },
    {
     "data": {
      "image/png": "[encoded data removed]",
      "text/plain": [
       "<Figure size 612x388.8 with 2 Axes>"
      ]
     },
     "metadata": {
      "needs_background": "light"
     },
     "output_type": "display_data"
    }
   ],
   "source": [
    "in_map = np.load(\"../../fermi-gce-gp/data/fermi_data/fermidata_counts.npy\")\n",
    "in_map[hp_mask] = 0\n",
    "\n",
    "hp.mollview(in_map, max=100)\n",
    "\n",
    "in_map = torch.Tensor(in_map[~masks_list[0]])\n",
    "in_map = in_map.reshape((1, -1, 1))\n",
    "in_map.shape"
   ]
  },
  {
   "cell_type": "code",
   "execution_count": 11,
   "metadata": {},
   "outputs": [
    {
     "name": "stdout",
     "output_type": "stream",
     "text": [
      "cuda:0\n"
     ]
    }
   ],
   "source": [
    "device = torch.device(\"cuda:0\" if torch.cuda.is_available() else \"cpu\")\n",
    "\n",
    "# Assuming that we are on a CUDA machine, this should print a CUDA device:\n",
    "\n",
    "print(device)"
   ]
  },
  {
   "cell_type": "code",
   "execution_count": 12,
   "metadata": {},
   "outputs": [],
   "source": [
    "sg = SphericalGraphCNN(nside_list, indexes_list).to(device)"
   ]
  },
  {
   "cell_type": "code",
   "execution_count": 13,
   "metadata": {},
   "outputs": [
    {
     "data": {
      "text/plain": [
       "torch.Size([1, 16384, 1])"
      ]
     },
     "execution_count": 13,
     "metadata": {},
     "output_type": "execute_result"
    }
   ],
   "source": [
    "in_map.shape"
   ]
  },
  {
   "cell_type": "code",
   "execution_count": 14,
   "metadata": {},
   "outputs": [],
   "source": [
    "in_map = in_map.to(device)"
   ]
  },
  {
   "cell_type": "code",
   "execution_count": 15,
   "metadata": {},
   "outputs": [
    {
     "data": {
      "text/plain": [
       "torch.Size([1, 64])"
      ]
     },
     "execution_count": 15,
     "metadata": {},
     "output_type": "execute_result"
    }
   ],
   "source": [
    "sg(in_map).shape"
   ]
  },
  {
   "cell_type": "code",
   "execution_count": 16,
   "metadata": {},
   "outputs": [],
   "source": [
    "temp_gce = np.load(\"../data/fermi_data/template_gce.npy\")"
   ]
  },
  {
   "cell_type": "code",
   "execution_count": 17,
   "metadata": {},
   "outputs": [],
   "source": [
    "from models.scd import dnds\n",
    "from utils.psf_correction import PSFCorrection\n",
    "from utils.utils import make_dirs\n",
    "from models.psf import KingPSF"
   ]
  },
  {
   "cell_type": "code",
   "execution_count": 18,
   "metadata": {},
   "outputs": [],
   "source": [
    "kp = KingPSF()\n",
    "\n",
    "pc_inst = PSFCorrection(delay_compute=True)\n",
    "pc_inst.psf_r_func = lambda r: kp.psf_fermi_r(r)"
   ]
  },
  {
   "cell_type": "code",
   "execution_count": 19,
   "metadata": {},
   "outputs": [],
   "source": [
    "from simulations.simulate_ps import SimulateMap"
   ]
  },
  {
   "cell_type": "code",
   "execution_count": 20,
   "metadata": {},
   "outputs": [],
   "source": [
    "from sbi import utils\n",
    "from sbi import inference\n",
    "from sbi.inference.base import infer"
   ]
  },
  {
   "cell_type": "code",
   "execution_count": 21,
   "metadata": {},
   "outputs": [
    {
     "data": {
      "text/plain": [
       "torch.Size([1, 16384, 1])"
      ]
     },
     "execution_count": 21,
     "metadata": {},
     "output_type": "execute_result"
    }
   ],
   "source": [
    "in_map.shape"
   ]
  },
  {
   "cell_type": "code",
   "execution_count": 22,
   "metadata": {},
   "outputs": [],
   "source": [
    "# def simulator_model(parameter):\n",
    "#     s_ary = torch.logspace(-1, 2, 100)\n",
    "#     dnds_ary = dnds(s_ary, torch.tensor(parameter)).numpy()\n",
    "#     sm = SimulateMap([],[],[s_ary],[dnds_ary], [temp_gce], pc_inst.psf_r_func, n_exp=[parameter[0]])\n",
    "#     the_map = np.array(sm.create_map()).astype(np.float32)\n",
    "#     the_map = the_map.reshape((1, -1))[:, ~masks_list[0]]\n",
    "#     the_map /= np.mean(the_map)\n",
    "#     return the_map\n",
    "\n",
    "def simulator_model(parameter):\n",
    "    s_ary = torch.logspace(-1, 2, 100)\n",
    "    dnds_ary = dnds(s_ary, torch.tensor([5., 15., parameter[1], -10., 20, 1.])).numpy()\n",
    "    sm = SimulateMap([],[],[s_ary],[dnds_ary], [temp_gce], pc_inst.psf_r_func, n_exp=[10 ** parameter[0]])\n",
    "    the_map = np.array(sm.create_map()).astype(np.float32)\n",
    "    the_map = the_map.reshape((1, -1))[:, ~masks_list[0]]\n",
    "    the_map /= np.mean(the_map)\n",
    "    return the_map"
   ]
  },
  {
   "cell_type": "code",
   "execution_count": 24,
   "metadata": {},
   "outputs": [
    {
     "data": {
      "text/plain": [
       "array([[0., 0., 0., ..., 0., 0., 0.]], dtype=float32)"
      ]
     },
     "execution_count": 24,
     "metadata": {},
     "output_type": "execute_result"
    }
   ],
   "source": [
    "parameter = [3, 10., 1.9, -10., 20., 0.1]\n",
    "simulator_model(parameter)"
   ]
  },
  {
   "cell_type": "code",
   "execution_count": 25,
   "metadata": {},
   "outputs": [],
   "source": [
    "from tqdm import *"
   ]
  },
  {
   "cell_type": "code",
   "execution_count": 26,
   "metadata": {},
   "outputs": [
    {
     "name": "stderr",
     "output_type": "stream",
     "text": [
      "  0%|          | 0/1000 [00:00<?, ?it/s]<ipython-input-22-1783c9959e50>:16: RuntimeWarning: invalid value encountered in true_divide\n",
      "  the_map /= np.mean(the_map)\n",
      "100%|██████████| 1000/1000 [04:05<00:00,  4.07it/s]\n"
     ]
    }
   ],
   "source": [
    "number_presimulated = 1000\n",
    "\n",
    "# prior = utils.BoxUniform(low=torch.tensor([0., 10., 1.1, -10., 5., 0.1]), \n",
    "#                          high=torch.tensor([1000., 20., 1.9, 1.9, 50., 4.99]))\n",
    "\n",
    "prior = utils.BoxUniform(low=torch.tensor([-1., 1.1]), \n",
    "                         high=torch.tensor([3., 1.9]))\n",
    "\n",
    "theta_presimulated = prior.sample((number_presimulated,))\n",
    "\n",
    "x_presimulated = [simulator_model(theta) for theta in tqdm(theta_presimulated)]"
   ]
  },
  {
   "cell_type": "code",
   "execution_count": 27,
   "metadata": {},
   "outputs": [],
   "source": [
    "theta_presimulated = torch.Tensor(theta_presimulated)\n",
    "x_presimulated = torch.Tensor(x_presimulated)"
   ]
  },
  {
   "cell_type": "code",
   "execution_count": 28,
   "metadata": {},
   "outputs": [],
   "source": [
    "x_presimulated[x_presimulated != x_presimulated] = 0."
   ]
  },
  {
   "cell_type": "code",
   "execution_count": 29,
   "metadata": {},
   "outputs": [],
   "source": [
    "from torch.utils.tensorboard import SummaryWriter\n",
    "\n",
    "writer = SummaryWriter()"
   ]
  },
  {
   "cell_type": "code",
   "execution_count": 30,
   "metadata": {},
   "outputs": [],
   "source": [
    "sg_embed = SphericalGraphCNN(nside_list, indexes_list)"
   ]
  },
  {
   "cell_type": "code",
   "execution_count": 31,
   "metadata": {},
   "outputs": [
    {
     "name": "stderr",
     "output_type": "stream",
     "text": [
      "<ipython-input-22-1783c9959e50>:16: RuntimeWarning: invalid value encountered in true_divide\n",
      "  the_map /= np.mean(the_map)\n",
      "/home/sm8383/anaconda3/lib/python3.8/site-packages/sbi-0.13.2-py3.8.egg/sbi/utils/torchutils.py:26: UserWarning: GPU was selected as a device for training the neural network. Note\n",
      "                   that we expect **no** significant speed ups in training for the\n",
      "                   default architectures we provide. Using the GPU will be effective\n",
      "                   only for large neural networks with operations that are fast on the\n",
      "                   GPU, e.g., for a CNN or RNN `embedding_net`.\n",
      "  warnings.warn(\n"
     ]
    }
   ],
   "source": [
    "# set prior distribution for the parameters \n",
    "# prior = utils.BoxUniform(low=torch.tensor([0., 10., 1.1, -10., 5., 0.1]), \n",
    "#                          high=torch.tensor([1000., 20., 1.9, 1.9, 50., 4.99]))\n",
    "\n",
    "prior = utils.BoxUniform(low=torch.tensor([-1., 1.1]), \n",
    "                         high=torch.tensor([3., 1.9]))\n",
    "\n",
    "# make a SBI-wrapper on the simulator object for compatibility\n",
    "simulator_wrapper, prior = inference.prepare_for_sbi(simulator_model, prior)\n",
    "\n",
    "# # instantiate the neural density estimator\n",
    "# neural_classifier = utils.classifier_nn(model='linear',\n",
    "#                                       embedding_net_x=sg)\n",
    "\n",
    "# # setup the inference procedure with the SNPE-C procedure\n",
    "# inference_inst = inference.SNRE_A(simulator_wrapper, prior,\n",
    "#                            classifier=neural_classifier, \n",
    "#                            show_progress_bars=True, show_round_summary=True, \n",
    "#                            logging_level='INFO',\n",
    "#                            summary_writer=writer,\n",
    "#                            mcmc_method='hmc')\n",
    "\n",
    "# instantiate the neural density estimator\n",
    "neural_classifier = utils.posterior_nn(model='maf',\n",
    "                                      embedding_net=sg_embed,\n",
    "                                      hidden_features=50,\n",
    "                                      num_transforms=4,\n",
    ")\n",
    "\n",
    "# setup the inference procedure with the SNPE-C procedure\n",
    "inference_inst = inference.SNPE(simulator_wrapper, prior,\n",
    "                           density_estimator=neural_classifier, \n",
    "                           show_progress_bars=True, show_round_summary=True, \n",
    "                           logging_level='INFO',\n",
    "#                            summary_writer=writer,\n",
    "                                 sample_with_mcmc=True,\n",
    "                                 mcmc_method=\"slice_np\",\n",
    "                                 device=device)"
   ]
  },
  {
   "cell_type": "code",
   "execution_count": 32,
   "metadata": {},
   "outputs": [],
   "source": [
    "inference_inst.provide_presimulated(theta_presimulated, x_presimulated[:, 0, :])"
   ]
  },
  {
   "cell_type": "code",
   "execution_count": 33,
   "metadata": {},
   "outputs": [
    {
     "name": "stdout",
     "output_type": "stream",
     "text": [
      "Neural network successfully converged after 32 epochs.\n",
      "\n",
      "        -------------------------\n",
      "        ||||| ROUND 1 STATS |||||:\n",
      "        -------------------------\n",
      "        Epochs trained: 32\n",
      "        Best validation performance: -0.0074\n",
      "        Acceptance rate: nan\n",
      "        -------------------------\n",
      "        \n"
     ]
    }
   ],
   "source": [
    "# run the inference procedure on one round and 10000 simulated data points\n",
    "posterior = inference_inst(num_simulations=0, training_batch_size=64, max_num_epochs=200)"
   ]
  },
  {
   "cell_type": "code",
   "execution_count": 40,
   "metadata": {},
   "outputs": [
    {
     "name": "stderr",
     "output_type": "stream",
     "text": [
      "Tuning bracket width...: 100%|██████████| 50/50 [00:14<00:00,  3.46it/s]\n",
      "Generating samples: 100%|██████████| 20/20 [00:31<00:00,  1.57s/it]\n",
      "Generating samples: 100%|██████████| 100/100 [02:40<00:00,  1.60s/it]\n"
     ]
    }
   ],
   "source": [
    "# generate posterior samples\n",
    "true_parameter = torch.tensor([2.5, 1.9])\n",
    "# true_parameter = torch.tensor([300, 10., 1.9, -10., 20., 0.1])\n",
    "x_observed = simulator_model(true_parameter)\n",
    "samples = posterior.set_default_x(x_observed).sample((100,))"
   ]
  },
  {
   "cell_type": "code",
   "execution_count": 42,
   "metadata": {},
   "outputs": [
    {
     "data": {
      "image/png": "[encoded data removed]",
      "text/plain": [
       "<Figure size 540x460.8 with 4 Axes>"
      ]
     },
     "metadata": {
      "needs_background": "light"
     },
     "output_type": "display_data"
    }
   ],
   "source": [
    "# create the figure\n",
    "fig, ax = utils.pairplot(samples, \n",
    "                             points=true_parameter,\n",
    "#                              labels=['r', r'$\\theta$'], \n",
    "#                              limits=[[0, 600], [-2, 0]],\n",
    "                             points_colors='r',\n",
    "                             points_offdiag={'markersize': 6},\n",
    "                             fig_size=[7.5, 6.4])\n"
   ]
  },
  {
   "cell_type": "code",
   "execution_count": null,
   "metadata": {},
   "outputs": [],
   "source": []
  }
 ],
 "metadata": {
  "kernelspec": {
   "display_name": "Python 3",
   "language": "python",
   "name": "python3"
  },
  "language_info": {
   "codemirror_mode": {
    "name": "ipython",
    "version": 3
   },
   "file_extension": ".py",
   "mimetype": "text/x-python",
   "name": "python",
   "nbconvert_exporter": "python",
   "pygments_lexer": "ipython3",
   "version": "3.8.3"
  }
 },
 "nbformat": 4,
 "nbformat_minor": 4
}
