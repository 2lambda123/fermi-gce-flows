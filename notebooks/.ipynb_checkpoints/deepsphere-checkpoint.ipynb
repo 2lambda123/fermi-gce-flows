{
 "cells": [
  {
   "cell_type": "code",
   "execution_count": 9,
   "metadata": {},
   "outputs": [],
   "source": [
    "import numpy as np\n",
    "import healpy as hp\n",
    "import matplotlib.pyplot as plt\n",
    "\n",
    "%matplotlib inline\n",
    "%load_ext autoreload\n",
    "%autoreload 2"
   ]
  },
  {
   "cell_type": "code",
   "execution_count": 2,
   "metadata": {},
   "outputs": [],
   "source": [
    "import sys\n",
    "sys.path.append(\"../deepsphere-pytorch/\")\n",
    "sys.path.append(\"../\")"
   ]
  },
  {
   "cell_type": "code",
   "execution_count": 3,
   "metadata": {},
   "outputs": [],
   "source": [
    "from deepsphere.layers.chebyshev import SphericalChebConv\n",
    "from deepsphere.utils.laplacian_funcs import get_healpix_laplacians"
   ]
  },
  {
   "cell_type": "code",
   "execution_count": 276,
   "metadata": {},
   "outputs": [],
   "source": [
    "import torch\n",
    "from torch import nn\n",
    "import torch.nn.functional as F\n",
    "\n",
    "from deepsphere.layers.samplings.equiangular_pool_unpool import Equiangular\n",
    "from deepsphere.layers.samplings.healpix_pool_unpool import Healpix\n",
    "from deepsphere.layers.samplings.icosahedron_pool_unpool import Icosahedron\n",
    "from deepsphere.models.spherical_unet.decoder import Decoder\n",
    "from deepsphere.models.spherical_unet.encoder import Encoder, EncoderTemporalConv\n",
    "from deepsphere.utils.laplacian_funcs import get_healpix_laplacians\n",
    "from deepsphere.utils.utils import healpix_graph, healpix_laplacian, healpix_weightmatrix"
   ]
  },
  {
   "cell_type": "code",
   "execution_count": 291,
   "metadata": {},
   "outputs": [],
   "source": [
    "class SphericalChebBNPool(nn.Module):\n",
    "    \"\"\"Building Block with a pooling/unpooling, a calling the SphericalChebBN block.\n",
    "    \"\"\"\n",
    "\n",
    "    def __init__(self, in_channels, out_channels, lap, pooling, kernel_size):\n",
    "        \"\"\"Initialization.\n",
    "\n",
    "        Args:\n",
    "            in_channels (int): initial number of channels.\n",
    "            out_channels (int): output number of channels.\n",
    "            lap (:obj:`torch.sparse.FloatTensor`): laplacian.\n",
    "            pooling (:obj:`torch.nn.Module`): pooling/unpooling module.\n",
    "            kernel_size (int, optional): polynomial degree. Defaults to 3.\n",
    "        \"\"\"\n",
    "        super().__init__()\n",
    "        self.spherical_cheb = SphericalChebConv(in_channels, out_channels, lap, kernel_size)\n",
    "        self.pooling = pooling\n",
    "        self.batchnorm = nn.BatchNorm1d(out_channels)\n",
    "\n",
    "    def forward(self, x):\n",
    "        \"\"\"Forward Pass.\n",
    "\n",
    "        Args:\n",
    "            x (:obj:`torch.tensor`): input [batch x vertices x channels/features]\n",
    "\n",
    "        Returns:\n",
    "            :obj:`torch.tensor`: output [batch x vertices x channels/features]\n",
    "        \"\"\"\n",
    "        x = self.spherical_cheb(x)\n",
    "        x = self.batchnorm(x.permute(0, 2, 1))\n",
    "        x = F.relu(x.permute(0, 2, 1))\n",
    "        x = self.pooling(x)\n",
    "        return x\n"
   ]
  },
  {
   "cell_type": "code",
   "execution_count": 374,
   "metadata": {},
   "outputs": [],
   "source": [
    "class SphericalGraphCNN(nn.Module):\n",
    "    \"\"\"Spherical GCNN Autoencoder.\n",
    "    \"\"\"\n",
    "\n",
    "    def __init__(self, kernel_size=4):\n",
    "        \"\"\"Initialization.\n",
    "\n",
    "        Args:\n",
    "            pooling_class (obj): One of three classes of pooling methods\n",
    "            N (int): Number of pixels in the input image\n",
    "            kernel_size (int): chebychev polynomial degree\n",
    "        \"\"\"\n",
    "        super().__init__()\n",
    "        self.kernel_size = kernel_size\n",
    "        self.pooling_class = Healpix()\n",
    "        self.laps = get_healpix_laplacians([32], \"combinatorial\", indexes_list=[np.arange(100)])\n",
    "\n",
    "        self.spherical_cheb_bn_pool1 = SphericalChebBNPool(1, 32, self.laps[0], self.pooling_class.pooling, self.kernel_size)\n",
    "#         self.spherical_cheb_bn_pool2 = SphericalChebBNPool(768, 32, self.laps[0], self.pooling_class.pooling, self.kernel_size)\n",
    "\n",
    "    def forward(self, x):\n",
    "        \"\"\"Forward Pass.\n",
    "\n",
    "        Args:\n",
    "            x (:obj:`torch.Tensor`): input to be forwarded.\n",
    "\n",
    "        Returns:\n",
    "            :obj:`torch.Tensor`: output\n",
    "        \"\"\"\n",
    "        x = self.spherical_cheb_bn_pool1(x)\n",
    "#         x = self.spherical_cheb_bn_pool2(x)\n",
    "        return x"
   ]
  },
  {
   "cell_type": "code",
   "execution_count": 394,
   "metadata": {},
   "outputs": [],
   "source": [
    "import healpy as hp\n",
    "npix = hp.nside2npix(128)\n",
    "test_map = np.ones(npix)"
   ]
  },
  {
   "cell_type": "code",
   "execution_count": 379,
   "metadata": {},
   "outputs": [],
   "source": [
    "sg = SphericalGraphCNN()"
   ]
  },
  {
   "cell_type": "code",
   "execution_count": 380,
   "metadata": {},
   "outputs": [],
   "source": [
    "in_map = torch.ones((1,100,1))"
   ]
  },
  {
   "cell_type": "code",
   "execution_count": 381,
   "metadata": {},
   "outputs": [
    {
     "data": {
      "text/plain": [
       "torch.Size([1, 100, 1])"
      ]
     },
     "execution_count": 381,
     "metadata": {},
     "output_type": "execute_result"
    }
   ],
   "source": [
    "in_map.size()"
   ]
  },
  {
   "cell_type": "code",
   "execution_count": 382,
   "metadata": {},
   "outputs": [
    {
     "data": {
      "text/plain": [
       "torch.Size([1, 25, 32])"
      ]
     },
     "execution_count": 382,
     "metadata": {},
     "output_type": "execute_result"
    }
   ],
   "source": [
    "sg(in_map).size()"
   ]
  },
  {
   "cell_type": "code",
   "execution_count": 399,
   "metadata": {},
   "outputs": [
    {
     "name": "stderr",
     "output_type": "stream",
     "text": [
      "/Users/smsharma/anaconda3/lib/python3.7/site-packages/healpy-1.12.9-py3.7-macosx-10.7-x86_64.egg/healpy/projaxes.py:1196: MatplotlibDeprecationWarning: \n",
      "The iterable function was deprecated in Matplotlib 3.1 and will be removed in 3.3. Use np.iterable instead.\n",
      "  if matplotlib.cbook.iterable(value):\n"
     ]
    },
    {
     "data": {
      "image/png": "[encoded data removed]",
      "text/plain": [
       "<Figure size 612x388.8 with 2 Axes>"
      ]
     },
     "metadata": {
      "needs_background": "light"
     },
     "output_type": "display_data"
    }
   ],
   "source": [
    "sys.path.append(\"../../fermi-gce-gp/\")\n",
    "from utils import create_mask as cm\n",
    "\n",
    "pscmask=np.array(np.load('../../fermi-gce-gp/data/mask_3fgl_0p8deg.npy'), dtype=bool)\n",
    "hp_mask = cm.make_mask_total(band_mask = True, band_mask_range = 2,\n",
    "                              mask_ring = True, inner = 0, outer = 25,\n",
    "                              custom_mask = pscmask)\n",
    "\n",
    "hp.mollview(hp_mask)"
   ]
  },
  {
   "cell_type": "code",
   "execution_count": 400,
   "metadata": {},
   "outputs": [],
   "source": [
    "indexes = np.arange(npix)[~hp_mask]"
   ]
  },
  {
   "cell_type": "code",
   "execution_count": null,
   "metadata": {},
   "outputs": [],
   "source": [
    "get_healpix_laplacians(nside_list=[128], laplacian_type=\"combinatorial\")"
   ]
  },
  {
   "cell_type": "code",
   "execution_count": null,
   "metadata": {},
   "outputs": [],
   "source": []
  }
 ],
 "metadata": {
  "kernelspec": {
   "display_name": "Python 3",
   "language": "python",
   "name": "python3"
  },
  "language_info": {
   "codemirror_mode": {
    "name": "ipython",
    "version": 3
   },
   "file_extension": ".py",
   "mimetype": "text/x-python",
   "name": "python",
   "nbconvert_exporter": "python",
   "pygments_lexer": "ipython3",
   "version": "3.7.3"
  }
 },
 "nbformat": 4,
 "nbformat_minor": 2
}
