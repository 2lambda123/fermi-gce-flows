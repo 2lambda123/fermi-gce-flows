{
 "cells": [
  {
   "cell_type": "code",
   "execution_count": 1,
   "metadata": {},
   "outputs": [],
   "source": [
    "import numpy as np\n",
    "import healpy as hp\n",
    "import matplotlib.pyplot as plt\n",
    "\n",
    "%matplotlib inline\n",
    "%load_ext autoreload\n",
    "%autoreload 2"
   ]
  },
  {
   "cell_type": "code",
   "execution_count": 2,
   "metadata": {},
   "outputs": [],
   "source": [
    "import sys\n",
    "sys.path.append(\"../deepsphere-pytorch/\")\n",
    "sys.path.append(\"../\")"
   ]
  },
  {
   "cell_type": "code",
   "execution_count": 3,
   "metadata": {},
   "outputs": [],
   "source": [
    "from deepsphere.layers.chebyshev import SphericalChebConv\n",
    "from deepsphere.utils.laplacian_funcs import get_healpix_laplacians"
   ]
  },
  {
   "cell_type": "code",
   "execution_count": 4,
   "metadata": {},
   "outputs": [],
   "source": [
    "import torch\n",
    "from torch import nn\n",
    "import torch.nn.functional as F\n",
    "\n",
    "from deepsphere.layers.samplings.equiangular_pool_unpool import Equiangular\n",
    "from deepsphere.layers.samplings.healpix_pool_unpool import Healpix\n",
    "from deepsphere.layers.samplings.icosahedron_pool_unpool import Icosahedron\n",
    "from deepsphere.models.spherical_unet.decoder import Decoder\n",
    "from deepsphere.models.spherical_unet.encoder import Encoder, EncoderTemporalConv\n",
    "from deepsphere.utils.laplacian_funcs import get_healpix_laplacians\n",
    "from deepsphere.utils.utils import healpix_graph, healpix_laplacian, healpix_weightmatrix"
   ]
  },
  {
   "cell_type": "code",
   "execution_count": 5,
   "metadata": {},
   "outputs": [],
   "source": [
    "class SphericalChebBNPool(nn.Module):\n",
    "    \"\"\"Building Block with a pooling/unpooling, a calling the SphericalChebBN block.\n",
    "    \"\"\"\n",
    "\n",
    "    def __init__(self, in_channels, out_channels, lap, pooling, kernel_size):\n",
    "        \"\"\"Initialization.\n",
    "\n",
    "        Args:\n",
    "            in_channels (int): initial number of channels.\n",
    "            out_channels (int): output number of channels.\n",
    "            lap (:obj:`torch.sparse.FloatTensor`): laplacian.\n",
    "            pooling (:obj:`torch.nn.Module`): pooling/unpooling module.\n",
    "            kernel_size (int, optional): polynomial degree. Defaults to 3.\n",
    "        \"\"\"\n",
    "        super().__init__()\n",
    "        self.spherical_cheb = SphericalChebConv(in_channels, out_channels, lap, kernel_size)\n",
    "        self.pooling = pooling\n",
    "        self.batchnorm = nn.BatchNorm1d(out_channels)\n",
    "\n",
    "    def forward(self, x):\n",
    "        \"\"\"Forward Pass.\n",
    "\n",
    "        Args:\n",
    "            x (:obj:`torch.tensor`): input [batch x vertices x channels/features]\n",
    "\n",
    "        Returns:\n",
    "            :obj:`torch.tensor`: output [batch x vertices x channels/features]\n",
    "        \"\"\"\n",
    "        x = self.spherical_cheb(x)\n",
    "        x = self.batchnorm(x.permute(0, 2, 1))\n",
    "        x = F.relu(x.permute(0, 2, 1))\n",
    "        x = self.pooling(x)\n",
    "        return x\n"
   ]
  },
  {
   "cell_type": "code",
   "execution_count": 145,
   "metadata": {},
   "outputs": [],
   "source": [
    "class SphericalGraphCNN(nn.Module):\n",
    "    \"\"\"Spherical GCNN Autoencoder.\n",
    "    \"\"\"\n",
    "\n",
    "    def __init__(self, kernel_size=4):\n",
    "        \"\"\"Initialization.\n",
    "\n",
    "        Args:\n",
    "            pooling_class (obj): One of three classes of pooling methods\n",
    "            N (int): Number of pixels in the input image\n",
    "            kernel_size (int): chebychev polynomial degree\n",
    "        \"\"\"\n",
    "        super().__init__()\n",
    "        self.kernel_size = kernel_size\n",
    "        self.pooling_class = Healpix()\n",
    "        \n",
    "        self.laps = get_healpix_laplacians(nside_list=nside_list, laplacian_type=\"combinatorial\", indexes_list=indexes_list)\n",
    "\n",
    "        self.spherical_cheb_bn_pool1 = SphericalChebBNPool(1, 32, self.laps[0], self.pooling_class.pooling, self.kernel_size)\n",
    "        self.spherical_cheb_bn_pool2 = SphericalChebBNPool(32, 64, self.laps[1], self.pooling_class.pooling, self.kernel_size)\n",
    "        self.spherical_cheb_bn_pool3 = SphericalChebBNPool(64, 128, self.laps[2], self.pooling_class.pooling, self.kernel_size)\n",
    "        self.spherical_cheb_bn_pool4 = SphericalChebBNPool(128, 256, self.laps[3], self.pooling_class.pooling, self.kernel_size)\n",
    "        self.spherical_cheb_bn_pool5 = SphericalChebBNPool(256, 256, self.laps[4], self.pooling_class.pooling, self.kernel_size)\n",
    "        self.spherical_cheb_bn_pool6 = SphericalChebBNPool(256, 256, self.laps[5], self.pooling_class.pooling, self.kernel_size)\n",
    "        self.spherical_cheb_bn_pool7 = SphericalChebBNPool(256, 256, self.laps[6], self.pooling_class.pooling, self.kernel_size)\n",
    "\n",
    "    def forward(self, x):\n",
    "        \"\"\"Forward Pass.\n",
    "\n",
    "        Args:\n",
    "            x (:obj:`torch.Tensor`): input to be forwarded.\n",
    "\n",
    "        Returns:\n",
    "            :obj:`torch.Tensor`: output\n",
    "        \"\"\"\n",
    "        x = self.spherical_cheb_bn_pool1(x)\n",
    "        x = self.spherical_cheb_bn_pool2(x)\n",
    "        x = self.spherical_cheb_bn_pool3(x)\n",
    "        x = self.spherical_cheb_bn_pool4(x)\n",
    "        x = self.spherical_cheb_bn_pool5(x)\n",
    "        x = self.spherical_cheb_bn_pool6(x)\n",
    "        x = self.spherical_cheb_bn_pool7(x)\n",
    "        return x"
   ]
  },
  {
   "cell_type": "code",
   "execution_count": 146,
   "metadata": {},
   "outputs": [],
   "source": [
    "import healpy as hp\n",
    "npix = hp.nside2npix(128)\n",
    "test_map = np.ones(npix)"
   ]
  },
  {
   "cell_type": "code",
   "execution_count": 147,
   "metadata": {},
   "outputs": [],
   "source": [
    "sg = SphericalGraphCNN()"
   ]
  },
  {
   "cell_type": "code",
   "execution_count": 148,
   "metadata": {},
   "outputs": [],
   "source": [
    "in_map = torch.ones(len(indexes_list[0]))"
   ]
  },
  {
   "cell_type": "code",
   "execution_count": 149,
   "metadata": {},
   "outputs": [
    {
     "data": {
      "text/plain": [
       "torch.Size([1, 16384, 1])"
      ]
     },
     "execution_count": 149,
     "metadata": {},
     "output_type": "execute_result"
    }
   ],
   "source": [
    "in_map = in_map.reshape((1, -1, 1))\n",
    "in_map.shape"
   ]
  },
  {
   "cell_type": "code",
   "execution_count": 153,
   "metadata": {},
   "outputs": [
    {
     "data": {
      "text/plain": [
       "torch.Size([1, 1, 256])"
      ]
     },
     "execution_count": 153,
     "metadata": {},
     "output_type": "execute_result"
    }
   ],
   "source": [
    "sg(in_map).shape"
   ]
  },
  {
   "cell_type": "code",
   "execution_count": 154,
   "metadata": {},
   "outputs": [],
   "source": [
    "from torchvision import models\n",
    "from torchsummary import summary"
   ]
  },
  {
   "cell_type": "code",
   "execution_count": 155,
   "metadata": {},
   "outputs": [
    {
     "name": "stdout",
     "output_type": "stream",
     "text": [
      "----------------------------------------------------------------\n",
      "        Layer (type)               Output Shape         Param #\n",
      "================================================================\n",
      "          ChebConv-1            [-1, 16384, 32]             160\n",
      " SphericalChebConv-2            [-1, 16384, 32]               0\n",
      "       BatchNorm1d-3            [-1, 32, 16384]              64\n",
      "    HealpixAvgPool-4             [-1, 4096, 32]               0\n",
      "    HealpixAvgPool-5             [-1, 4096, 32]               0\n",
      "    HealpixAvgPool-6             [-1, 4096, 32]               0\n",
      "    HealpixAvgPool-7             [-1, 4096, 32]               0\n",
      "    HealpixAvgPool-8             [-1, 4096, 32]               0\n",
      "    HealpixAvgPool-9             [-1, 4096, 32]               0\n",
      "   HealpixAvgPool-10             [-1, 4096, 32]               0\n",
      "SphericalChebBNPool-11             [-1, 4096, 32]               0\n",
      "         ChebConv-12             [-1, 4096, 64]           8,256\n",
      "SphericalChebConv-13             [-1, 4096, 64]               0\n",
      "      BatchNorm1d-14             [-1, 64, 4096]             128\n",
      "   HealpixAvgPool-15             [-1, 1024, 64]               0\n",
      "   HealpixAvgPool-16             [-1, 1024, 64]               0\n",
      "   HealpixAvgPool-17             [-1, 1024, 64]               0\n",
      "   HealpixAvgPool-18             [-1, 1024, 64]               0\n",
      "   HealpixAvgPool-19             [-1, 1024, 64]               0\n",
      "   HealpixAvgPool-20             [-1, 1024, 64]               0\n",
      "   HealpixAvgPool-21             [-1, 1024, 64]               0\n",
      "SphericalChebBNPool-22             [-1, 1024, 64]               0\n",
      "         ChebConv-23            [-1, 1024, 128]          32,896\n",
      "SphericalChebConv-24            [-1, 1024, 128]               0\n",
      "      BatchNorm1d-25            [-1, 128, 1024]             256\n",
      "   HealpixAvgPool-26             [-1, 256, 128]               0\n",
      "   HealpixAvgPool-27             [-1, 256, 128]               0\n",
      "   HealpixAvgPool-28             [-1, 256, 128]               0\n",
      "   HealpixAvgPool-29             [-1, 256, 128]               0\n",
      "   HealpixAvgPool-30             [-1, 256, 128]               0\n",
      "   HealpixAvgPool-31             [-1, 256, 128]               0\n",
      "   HealpixAvgPool-32             [-1, 256, 128]               0\n",
      "SphericalChebBNPool-33             [-1, 256, 128]               0\n",
      "         ChebConv-34             [-1, 256, 256]         131,328\n",
      "SphericalChebConv-35             [-1, 256, 256]               0\n",
      "      BatchNorm1d-36             [-1, 256, 256]             512\n",
      "   HealpixAvgPool-37              [-1, 64, 256]               0\n",
      "   HealpixAvgPool-38              [-1, 64, 256]               0\n",
      "   HealpixAvgPool-39              [-1, 64, 256]               0\n",
      "   HealpixAvgPool-40              [-1, 64, 256]               0\n",
      "   HealpixAvgPool-41              [-1, 64, 256]               0\n",
      "   HealpixAvgPool-42              [-1, 64, 256]               0\n",
      "   HealpixAvgPool-43              [-1, 64, 256]               0\n",
      "SphericalChebBNPool-44              [-1, 64, 256]               0\n",
      "         ChebConv-45              [-1, 64, 256]         262,400\n",
      "SphericalChebConv-46              [-1, 64, 256]               0\n",
      "      BatchNorm1d-47              [-1, 256, 64]             512\n",
      "   HealpixAvgPool-48              [-1, 16, 256]               0\n",
      "   HealpixAvgPool-49              [-1, 16, 256]               0\n",
      "   HealpixAvgPool-50              [-1, 16, 256]               0\n",
      "   HealpixAvgPool-51              [-1, 16, 256]               0\n",
      "   HealpixAvgPool-52              [-1, 16, 256]               0\n",
      "   HealpixAvgPool-53              [-1, 16, 256]               0\n",
      "   HealpixAvgPool-54              [-1, 16, 256]               0\n",
      "SphericalChebBNPool-55              [-1, 16, 256]               0\n",
      "         ChebConv-56              [-1, 16, 256]         262,400\n",
      "SphericalChebConv-57              [-1, 16, 256]               0\n",
      "      BatchNorm1d-58              [-1, 256, 16]             512\n",
      "   HealpixAvgPool-59               [-1, 4, 256]               0\n",
      "   HealpixAvgPool-60               [-1, 4, 256]               0\n",
      "   HealpixAvgPool-61               [-1, 4, 256]               0\n",
      "   HealpixAvgPool-62               [-1, 4, 256]               0\n",
      "   HealpixAvgPool-63               [-1, 4, 256]               0\n",
      "   HealpixAvgPool-64               [-1, 4, 256]               0\n",
      "   HealpixAvgPool-65               [-1, 4, 256]               0\n",
      "SphericalChebBNPool-66               [-1, 4, 256]               0\n",
      "         ChebConv-67               [-1, 4, 256]         262,400\n",
      "SphericalChebConv-68               [-1, 4, 256]               0\n",
      "      BatchNorm1d-69               [-1, 256, 4]             512\n",
      "   HealpixAvgPool-70               [-1, 1, 256]               0\n",
      "   HealpixAvgPool-71               [-1, 1, 256]               0\n",
      "   HealpixAvgPool-72               [-1, 1, 256]               0\n",
      "   HealpixAvgPool-73               [-1, 1, 256]               0\n",
      "   HealpixAvgPool-74               [-1, 1, 256]               0\n",
      "   HealpixAvgPool-75               [-1, 1, 256]               0\n",
      "   HealpixAvgPool-76               [-1, 1, 256]               0\n",
      "SphericalChebBNPool-77               [-1, 1, 256]               0\n",
      "================================================================\n",
      "Total params: 962,336\n",
      "Trainable params: 962,336\n",
      "Non-trainable params: 0\n",
      "----------------------------------------------------------------\n",
      "Input size (MB): 0.06\n",
      "Forward/backward pass size (MB): 38.32\n",
      "Params size (MB): 3.67\n",
      "Estimated Total Size (MB): 42.05\n",
      "----------------------------------------------------------------\n"
     ]
    }
   ],
   "source": [
    "summary(sg, input_size=(16384, 1))"
   ]
  },
  {
   "cell_type": "code",
   "execution_count": 75,
   "metadata": {},
   "outputs": [],
   "source": [
    "nside_list = [128, 64, 32, 16, 8, 4, 2]"
   ]
  },
  {
   "cell_type": "code",
   "execution_count": 86,
   "metadata": {},
   "outputs": [],
   "source": [
    "sys.path.append(\"../../fermi-gce-gp/\")\n",
    "from utils import create_mask as cm\n",
    "\n",
    "hp_mask = cm.make_mask_total(nside=1, band_mask = True, band_mask_range = 0,\n",
    "                              mask_ring = True, inner = 0, outer = 25)\n",
    "\n",
    "indexes_list = []\n",
    "for nside in nside_list:\n",
    "    hp_mask = hp.ud_grade(hp_mask, nside)\n",
    "    indexes_list.append(np.arange(hp.nside2npix(nside))[~hp_mask])"
   ]
  },
  {
   "cell_type": "code",
   "execution_count": 87,
   "metadata": {},
   "outputs": [
    {
     "data": {
      "text/plain": [
       "array([ True,  True,  True,  True,  True,  True,  True,  True,  True,\n",
       "        True,  True,  True, False,  True,  True,  True,  True,  True,\n",
       "        True,  True, False,  True,  True,  True,  True,  True,  True,\n",
       "       False, False,  True,  True,  True,  True,  True,  True,  True,\n",
       "        True,  True,  True,  True,  True,  True,  True,  True,  True,\n",
       "        True,  True,  True])"
      ]
     },
     "execution_count": 87,
     "metadata": {},
     "output_type": "execute_result"
    }
   ],
   "source": [
    "hp_mask"
   ]
  },
  {
   "cell_type": "code",
   "execution_count": 77,
   "metadata": {},
   "outputs": [],
   "source": [
    "sys.path.append(\"../../fermi-gce-gp/\")\n",
    "from utils import create_mask as cm\n",
    "\n",
    "pscmask=np.array(np.load('../../fermi-gce-gp/data/mask_3fgl_0p8deg.npy'), dtype=bool)\n",
    "hp_mask = cm.make_mask_total(nside=128, band_mask = True, band_mask_range = 0,\n",
    "                              mask_ring = True, inner = 0, outer = 30,\n",
    "                              custom_mask = None)\n",
    "\n",
    "print(np.sum(~hp_mask))\n",
    "hp_mask = hp.ud_grade(hp_mask, 16, power=-2)\n",
    "print(np.sum(~hp_mask) * 64)\n",
    "hp.mollview(hp_mask)"
   ]
  },
  {
   "cell_type": "code",
   "execution_count": 80,
   "metadata": {},
   "outputs": [
    {
     "data": {
      "text/plain": [
       "7"
      ]
     },
     "execution_count": 80,
     "metadata": {},
     "output_type": "execute_result"
    }
   ],
   "source": [
    "len(get_healpix_laplacians(nside_list=nside_list, laplacian_type=\"combinatorial\", indexes_list=indexes_list))"
   ]
  },
  {
   "cell_type": "code",
   "execution_count": null,
   "metadata": {},
   "outputs": [],
   "source": []
  }
 ],
 "metadata": {
  "kernelspec": {
   "display_name": "Python 3",
   "language": "python",
   "name": "python3"
  },
  "language_info": {
   "codemirror_mode": {
    "name": "ipython",
    "version": 3
   },
   "file_extension": ".py",
   "mimetype": "text/x-python",
   "name": "python",
   "nbconvert_exporter": "python",
   "pygments_lexer": "ipython3",
   "version": "3.7.3"
  }
 },
 "nbformat": 4,
 "nbformat_minor": 2
}
