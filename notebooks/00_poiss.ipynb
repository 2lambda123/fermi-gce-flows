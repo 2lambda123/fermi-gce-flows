{
 "cells": [
  {
   "cell_type": "code",
   "execution_count": 3,
   "metadata": {},
   "outputs": [],
   "source": [
    "import numpy as np\n",
    "import healpy as hp\n",
    "import matplotlib.pyplot as plt\n",
    "import seaborn as sns\n",
    "import pandas as pd\n",
    "\n",
    "%matplotlib inline\n",
    "%load_ext autoreload\n",
    "%autoreload 2"
   ]
  },
  {
   "cell_type": "code",
   "execution_count": 1,
   "metadata": {},
   "outputs": [],
   "source": [
    "import torch\n",
    "import pyro\n",
    "from pyro.infer.autoguide import AutoMultivariateNormal, AutoIAFNormal, AutoNormalizingFlow, init_to_mean\n",
    "from pyro.infer import SVI, Trace_ELBO, Predictive, MCMC, NUTS\n",
    "import pyro.optim as optim\n",
    "import pyro.distributions as dist\n",
    "from torch.distributions import constraints\n",
    "from utils.templates import get_NFW2_template\n",
    "\n",
    "pyro.set_rng_seed(101)"
   ]
  },
  {
   "cell_type": "code",
   "execution_count": 4,
   "metadata": {},
   "outputs": [],
   "source": [
    "import matplotlib.pylab as pylab\n",
    "import warnings\n",
    "import matplotlib.cbook\n",
    "\n",
    "from plot_params import params\n",
    "\n",
    "warnings.filterwarnings(\"ignore\",category=matplotlib.cbook.mplDeprecation)\n",
    "\n",
    "pylab.rcParams.update(params)\n",
    "cols_default = plt.rcParams['axes.prop_cycle'].by_key()['color']"
   ]
  },
  {
   "cell_type": "code",
   "execution_count": 39,
   "metadata": {},
   "outputs": [],
   "source": [
    "nside = 128\n",
    "r_outer = 25"
   ]
  },
  {
   "cell_type": "code",
   "execution_count": 40,
   "metadata": {},
   "outputs": [],
   "source": [
    "from utils.templates import get_NFW2_template"
   ]
  },
  {
   "cell_type": "code",
   "execution_count": 62,
   "metadata": {},
   "outputs": [
    {
     "data": {
      "image/png": "[encoded data removed]",
      "text/plain": [
       "<Figure size 612x388.8 with 1 Axes>"
      ]
     },
     "metadata": {
      "needs_background": "light"
     },
     "output_type": "display_data"
    }
   ],
   "source": [
    "import sys\n",
    "sys.path.append(\"../\")\n",
    "\n",
    "from utils import create_mask as cm\n",
    "\n",
    "ps_mask = hp.ud_grade(np.load(\"../data/fermi_data/fermidata_pscmask.npy\") > 0, nside_out=nside)\n",
    "ps_mask = hp.ud_grade(np.load(\"../data/mask_3fgl_0p8deg.npy\") > 0, nside_out=nside)\n",
    "\n",
    "mask = cm.make_mask_total(nside=nside, band_mask = True, band_mask_range = 2,\n",
    "                              mask_ring = True, inner = 0, outer = r_outer, \n",
    "                          custom_mask=ps_mask\n",
    "                              )\n",
    "\n",
    "hp.mollview(mask,title='',cbar=False,min=0,max=1)"
   ]
  },
  {
   "cell_type": "markdown",
   "metadata": {},
   "source": [
    "## Inference with pyro"
   ]
  },
  {
   "cell_type": "code",
   "execution_count": 86,
   "metadata": {},
   "outputs": [],
   "source": [
    "data = torch.tensor(hp.ud_grade(np.load('../data/fermi_data/fermidata_counts.npy'), nside_out=nside, power=-2))[~mask]\n",
    "fermi_exp = (hp.ud_grade(np.load('../data/fermi_data/fermidata_counts.npy'), nside_out=nside, power=-2))\n",
    "\n",
    "roi_normalize_temps = cm.make_mask_total(nside=128, band_mask = True, band_mask_range=2, mask_ring=True, inner=0, outer=30)\n",
    "temp_gce = torch.Tensor(get_NFW2_template(gamma=1.2, exp_map=fermi_exp, roi_normalize=roi_normalize_temps))[~mask]\n",
    "\n",
    "# temp_gce = torch.tensor(hp.ud_grade(np.load('../data/fermi_data/template_gce.npy'), nside_out=nside, power=-2))[~mask]\n",
    "temp_bub = torch.tensor(hp.ud_grade(np.load('../data/fermi_data/template_bub.npy'), nside_out=nside, power=-2))[~mask]\n",
    "temp_iso = torch.tensor(hp.ud_grade(np.load('../data/fermi_data/template_iso.npy'), nside_out=nside, power=-2))[~mask]\n",
    "temp_dif = torch.tensor(hp.ud_grade(np.load('../data/fermi_data/template_dif.npy'), nside_out=nside, power=-2))[~mask]\n",
    "temp_psc = torch.tensor(hp.ud_grade(np.load('../data/fermi_data/template_psc.npy'), nside_out=nside, power=-2))[~mask]\n",
    "\n",
    "temp_mO_pibrem = torch.tensor(hp.ud_grade(np.load('../data/fermi_data/ModelO_r25_q1_pibrem.npy'), nside_out=nside, power=-2))[~mask]\n",
    "temp_mO_ics = torch.tensor(hp.ud_grade(np.load('../data/fermi_data/ModelO_r25_q1_ics.npy'), nside_out=nside, power=-2))[~mask]\n",
    "\n",
    "temp_mA_pibrem = hp.ud_grade(np.load('../data/external/template_Fpi.npy'), nside_out=128, power=-2)\n",
    "temp_mA_ics = hp.ud_grade(np.load('../data/external/template_Fic.npy'), nside_out=128, power=-2)\n",
    "             \n",
    "temp_mA_pibrem = torch.tensor(temp_mA_pibrem)[~mask]\n",
    "temp_mA_ics = torch.tensor(temp_mA_ics)[~mask]"
   ]
  },
  {
   "cell_type": "code",
   "execution_count": 87,
   "metadata": {},
   "outputs": [],
   "source": [
    "def model(data):\n",
    "    A_bub = pyro.sample(r\"$A_\\mathrm{bub}$\", dist.Uniform(0., 2.))\n",
    "    A_iso = pyro.sample(r\"$A_\\mathrm{iso}$\", dist.Uniform(0., 2.))\n",
    "    A_psc = pyro.sample(r\"$A_\\mathrm{psc}$\", dist.Uniform(0., 2.))\n",
    "    A_dif = pyro.sample(r\"$A_\\mathrm{dif}$\", dist.Uniform(0., 20.))\n",
    "    A_ics = pyro.sample(r\"$A_\\mathrm{ics}$\", dist.Uniform(0., 20.))\n",
    "    A_gce = pyro.sample(r\"$A_\\mathrm{gce}$\", dist.Uniform(0., 5.))\n",
    "    mu = A_bub * temp_bub + A_iso * temp_iso + A_psc * temp_psc + A_dif * temp_mA_pibrem + A_ics * temp_mA_ics + A_gce * temp_gce\n",
    "    with pyro.plate(\"data\", len(data)):\n",
    "        return pyro.sample(\"obs\", dist.Poisson(mu), obs=data)"
   ]
  },
  {
   "cell_type": "code",
   "execution_count": 88,
   "metadata": {},
   "outputs": [],
   "source": [
    "from functools import partial\n",
    "from pyro.distributions.transforms import block_autoregressive, iterated\n",
    "\n",
    "# guide = AutoMultivariateNormal(model)\n",
    "guide = AutoIAFNormal(model, num_transforms=4)"
   ]
  },
  {
   "cell_type": "code",
   "execution_count": 89,
   "metadata": {},
   "outputs": [],
   "source": [
    "pyro.clear_param_store()\n",
    "svi = SVI(model,\n",
    "          guide,\n",
    "          optim.Adam({\"lr\": .001}),\n",
    "          loss=Trace_ELBO())"
   ]
  },
  {
   "cell_type": "code",
   "execution_count": 90,
   "metadata": {},
   "outputs": [
    {
     "name": "stdout",
     "output_type": "stream",
     "text": [
      "[iteration 0001] loss: 8.4192\n",
      "[iteration 0101] loss: 3.4866\n",
      "[iteration 0201] loss: 2.8241\n",
      "[iteration 0301] loss: 2.8364\n",
      "[iteration 0401] loss: 2.7909\n",
      "[iteration 0501] loss: 2.7802\n",
      "[iteration 0601] loss: 2.7953\n",
      "[iteration 0701] loss: 2.7931\n",
      "[iteration 0801] loss: 2.7652\n",
      "[iteration 0901] loss: 2.7848\n",
      "[iteration 1001] loss: 2.7803\n",
      "[iteration 1101] loss: 2.7639\n",
      "[iteration 1201] loss: 2.7689\n",
      "[iteration 1301] loss: 2.7705\n",
      "[iteration 1401] loss: 2.7713\n",
      "[iteration 1501] loss: 2.7640\n",
      "[iteration 1601] loss: 2.7652\n",
      "[iteration 1701] loss: 2.7700\n",
      "[iteration 1801] loss: 2.7622\n",
      "[iteration 1901] loss: 2.7667\n",
      "[iteration 2001] loss: 2.7628\n",
      "[iteration 2101] loss: 2.7635\n",
      "[iteration 2201] loss: 2.7635\n",
      "[iteration 2301] loss: 2.7640\n",
      "[iteration 2401] loss: 2.7677\n",
      "[iteration 2501] loss: 2.7621\n",
      "[iteration 2601] loss: 2.7624\n",
      "[iteration 2701] loss: 2.7627\n",
      "[iteration 2801] loss: 2.7622\n",
      "[iteration 2901] loss: 2.7627\n",
      "[iteration 3001] loss: 2.7627\n",
      "[iteration 3101] loss: 2.7623\n",
      "[iteration 3201] loss: 2.7625\n",
      "[iteration 3301] loss: 2.7630\n",
      "[iteration 3401] loss: 2.7642\n",
      "[iteration 3501] loss: 2.7622\n",
      "[iteration 3601] loss: 2.7627\n",
      "[iteration 3701] loss: 2.7625\n",
      "[iteration 3801] loss: 2.7627\n",
      "[iteration 3901] loss: 2.7626\n"
     ]
    }
   ],
   "source": [
    "num_iterations = 4000\n",
    "\n",
    "pyro.clear_param_store()\n",
    "for j in range(num_iterations):\n",
    "    # calculate the loss and take a gradient step\n",
    "    loss = svi.step(data)\n",
    "    if j % 100 == 0:\n",
    "        print(\"[iteration %04d] loss: %.4f\" % (j + 1, loss / len(data)))\n"
   ]
  },
  {
   "cell_type": "code",
   "execution_count": 91,
   "metadata": {},
   "outputs": [],
   "source": [
    "# Utility function to print latent sites' quantile information.\n",
    "def summary(samples):\n",
    "    site_stats = {}\n",
    "    for site_name, values in samples.items():\n",
    "        marginal_site = pd.DataFrame(values)\n",
    "        describe = marginal_site.describe(percentiles=[.05, 0.25, 0.5, 0.75, 0.95]).transpose()\n",
    "        site_stats[site_name] = describe[[\"mean\", \"std\", \"5%\", \"25%\", \"50%\", \"75%\", \"95%\"]]\n",
    "    return site_stats"
   ]
  },
  {
   "cell_type": "code",
   "execution_count": 92,
   "metadata": {},
   "outputs": [],
   "source": [
    "num_samples = 1000\n",
    "predictive = Predictive(model, guide=guide, num_samples=num_samples)\n",
    "svi_samples = {k: v.reshape(num_samples).detach().cpu().numpy()\n",
    "               for k, v in predictive(data).items()\n",
    "               if k != \"obs\"}\n"
   ]
  },
  {
   "cell_type": "code",
   "execution_count": 93,
   "metadata": {},
   "outputs": [
    {
     "name": "stdout",
     "output_type": "stream",
     "text": [
      "Site: $A_\\mathrm{bub}$\n",
      "       mean      std       5%       25%     50%       75%      95%\n",
      "0  0.370725  0.06765  0.26199  0.320614  0.3694  0.420684  0.48382 \n",
      "\n",
      "Site: $A_\\mathrm{iso}$\n",
      "       mean       std        5%       25%       50%       75%       95%\n",
      "0  1.489301  0.080171  1.360459  1.437098  1.499759  1.544493  1.605677 \n",
      "\n",
      "Site: $A_\\mathrm{psc}$\n",
      "       mean       std        5%       25%       50%       75%       95%\n",
      "0  0.803725  0.558575  0.071625  0.322915  0.703542  1.267742  1.787044 \n",
      "\n",
      "Site: $A_\\mathrm{dif}$\n",
      "       mean       std       5%       25%       50%       75%      95%\n",
      "0  7.686871  0.151427  7.47904  7.594582  7.670356  7.752547  7.97077 \n",
      "\n",
      "Site: $A_\\mathrm{ics}$\n",
      "       mean       std        5%       25%       50%       75%      95%\n",
      "0  3.892243  0.185029  3.535939  3.810013  3.907978  4.011936  4.14517 \n",
      "\n",
      "Site: $A_\\mathrm{gce}$\n",
      "       mean      std     5%       25%       50%      75%       95%\n",
      "0  1.283336  0.04636  1.209  1.253351  1.279705  1.31249  1.363955 \n",
      "\n"
     ]
    }
   ],
   "source": [
    "for site, values in summary(svi_samples).items():\n",
    "    print(\"Site: {}\".format(site))\n",
    "    print(values, \"\\n\")"
   ]
  },
  {
   "cell_type": "code",
   "execution_count": 94,
   "metadata": {},
   "outputs": [],
   "source": [
    "# nuts_kernel = NUTS(model)\n",
    "\n",
    "# mcmc = MCMC(nuts_kernel, num_samples=200, warmup_steps=80)\n",
    "# mcmc.run(data)\n",
    "\n",
    "# hmc_samples = {k: v.detach().cpu().numpy() for k, v in mcmc.get_samples().items()}"
   ]
  },
  {
   "cell_type": "code",
   "execution_count": 95,
   "metadata": {},
   "outputs": [],
   "source": [
    "# for site, values in summary(hmc_samples).items():\n",
    "#     print(\"Site: {}\".format(site))\n",
    "#     print(values, \"\\n\")\n"
   ]
  },
  {
   "cell_type": "code",
   "execution_count": 96,
   "metadata": {},
   "outputs": [
    {
     "name": "stderr",
     "output_type": "stream",
     "text": [
      "/Users/smsharma/anaconda3/envs/sbi-fermi/lib/python3.6/site-packages/seaborn/distributions.py:2557: FutureWarning: `distplot` is a deprecated function and will be removed in a future version. Please adapt your code to use either `displot` (a figure-level function with similar flexibility) or `histplot` (an axes-level function for histograms).\n",
      "  warnings.warn(msg, FutureWarning)\n",
      "/Users/smsharma/anaconda3/envs/sbi-fermi/lib/python3.6/site-packages/seaborn/distributions.py:2557: FutureWarning: `distplot` is a deprecated function and will be removed in a future version. Please adapt your code to use either `displot` (a figure-level function with similar flexibility) or `histplot` (an axes-level function for histograms).\n",
      "  warnings.warn(msg, FutureWarning)\n",
      "/Users/smsharma/anaconda3/envs/sbi-fermi/lib/python3.6/site-packages/seaborn/distributions.py:2557: FutureWarning: `distplot` is a deprecated function and will be removed in a future version. Please adapt your code to use either `displot` (a figure-level function with similar flexibility) or `histplot` (an axes-level function for histograms).\n",
      "  warnings.warn(msg, FutureWarning)\n",
      "/Users/smsharma/anaconda3/envs/sbi-fermi/lib/python3.6/site-packages/seaborn/distributions.py:2557: FutureWarning: `distplot` is a deprecated function and will be removed in a future version. Please adapt your code to use either `displot` (a figure-level function with similar flexibility) or `histplot` (an axes-level function for histograms).\n",
      "  warnings.warn(msg, FutureWarning)\n",
      "/Users/smsharma/anaconda3/envs/sbi-fermi/lib/python3.6/site-packages/seaborn/distributions.py:2557: FutureWarning: `distplot` is a deprecated function and will be removed in a future version. Please adapt your code to use either `displot` (a figure-level function with similar flexibility) or `histplot` (an axes-level function for histograms).\n",
      "  warnings.warn(msg, FutureWarning)\n"
     ]
    },
    {
     "data": {
      "image/png": "[encoded data removed]",
      "text/plain": [
       "<Figure size 864x720 with 6 Axes>"
      ]
     },
     "metadata": {
      "needs_background": "light"
     },
     "output_type": "display_data"
    }
   ],
   "source": [
    "# sites = [r\"$A_\\mathrm{bub}$\", r\"$A_\\mathrm{iso}$\", r\"$A_\\mathrm{gce}$\", r\"$A_\\mathrm{dif}$\"]\n",
    "sites = [r\"$A_\\mathrm{bub}$\", r\"$A_\\mathrm{iso}$\", r\"$A_\\mathrm{gce}$\", r\"$A_\\mathrm{dif}$\", r\"$A_\\mathrm{ics}$\"]\n",
    "\n",
    "fig, axs = plt.subplots(nrows=2, ncols=3, figsize=(12, 10))\n",
    "fig.suptitle(\"Marginal Posterior density - Regression Coefficients\", fontsize=16)\n",
    "for i, ax in enumerate(axs.reshape(-1)):\n",
    "    if i > 4: continue\n",
    "    site = sites[i]\n",
    "    sns.distplot(svi_samples[site], ax=ax, label=\"SVI (Multivariate Normal)\")\n",
    "#     sns.distplot(hmc_samples[site], ax=ax, label=\"HMC\")\n",
    "    ax.set_title(site)\n",
    "handles, labels = ax.get_legend_handles_labels()\n",
    "fig.legend(handles, labels, loc='upper right');"
   ]
  },
  {
   "cell_type": "code",
   "execution_count": 61,
   "metadata": {},
   "outputs": [
    {
     "data": {
      "text/plain": [
       "(tensor(1.6273, dtype=torch.float64), tensor(10.2736, dtype=torch.float64))"
      ]
     },
     "execution_count": 61,
     "metadata": {},
     "output_type": "execute_result"
    }
   ],
   "source": [
    "torch.mean(temp_mA_ics) * 1.5, torch.mean(temp_mA_pibrem) * 10"
   ]
  },
  {
   "cell_type": "code",
   "execution_count": 57,
   "metadata": {},
   "outputs": [
    {
     "data": {
      "text/plain": [
       "1.8479753322568608"
      ]
     },
     "execution_count": 57,
     "metadata": {},
     "output_type": "execute_result"
    }
   ],
   "source": [
    "counts_roi = cm.make_mask_total(nside=nside, band_mask = True, band_mask_range = 2,\n",
    "                              mask_ring = True, inner = 0, outer = 25)\n",
    "\n",
    "mean_counts = np.mean(get_NFW2_template(gamma=1.2, exp_map=fermi_exp, roi_normalize=roi_normalize_temps)[~counts_roi] * np.mean(svi_samples[r\"$A_\\mathrm{gce}$\"]))\n",
    "mean_counts"
   ]
  },
  {
   "cell_type": "code",
   "execution_count": 135,
   "metadata": {},
   "outputs": [
    {
     "data": {
      "text/plain": [
       "0.09545733095785197"
      ]
     },
     "execution_count": 135,
     "metadata": {},
     "output_type": "execute_result"
    }
   ],
   "source": [
    "ff = mean_counts / np.mean(np.load('../data/fermi_data/fermidata_counts.npy')[~counts_roi])\n",
    "ff"
   ]
  },
  {
   "cell_type": "code",
   "execution_count": null,
   "metadata": {},
   "outputs": [],
   "source": []
  }
 ],
 "metadata": {
  "kernelspec": {
   "display_name": "Python 3",
   "language": "python",
   "name": "python3"
  },
  "language_info": {
   "codemirror_mode": {
    "name": "ipython",
    "version": 3
   },
   "file_extension": ".py",
   "mimetype": "text/x-python",
   "name": "python",
   "nbconvert_exporter": "python",
   "pygments_lexer": "ipython3",
   "version": "3.6.13"
  }
 },
 "nbformat": 4,
 "nbformat_minor": 4
}
