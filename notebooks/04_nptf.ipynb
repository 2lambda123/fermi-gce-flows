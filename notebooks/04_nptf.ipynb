{
 "cells": [
  {
   "cell_type": "code",
   "execution_count": 16,
   "metadata": {},
   "outputs": [
    {
     "name": "stdout",
     "output_type": "stream",
     "text": [
      "The autoreload extension is already loaded. To reload it, use:\n",
      "  %reload_ext autoreload\n"
     ]
    }
   ],
   "source": [
    "import numpy as np\n",
    "import healpy as hp\n",
    "import matplotlib.pyplot as plt\n",
    "import torch\n",
    "from tqdm import *\n",
    "\n",
    "%matplotlib inline\n",
    "%load_ext autoreload\n",
    "%autoreload 2"
   ]
  },
  {
   "cell_type": "code",
   "execution_count": 45,
   "metadata": {},
   "outputs": [],
   "source": [
    "import pyro\n",
    "from pyro.infer.autoguide import AutoLaplaceApproximation, AutoIAFNormal, AutoMultivariateNormal, AutoNormalizingFlow, AutoDiagonalNormal, AutoDelta, init_to_mean\n",
    "from pyro.infer import SVI, Trace_ELBO, TraceEnum_ELBO, TraceGraph_ELBO, Predictive, MCMC, NUTS\n",
    "import pyro.optim as optim\n",
    "import pyro.distributions as dist\n",
    "from torch.distributions import constraints"
   ]
  },
  {
   "cell_type": "code",
   "execution_count": 3,
   "metadata": {},
   "outputs": [],
   "source": [
    "import sys\n",
    "sys.path.append(\"../\")"
   ]
  },
  {
   "cell_type": "code",
   "execution_count": 74,
   "metadata": {},
   "outputs": [],
   "source": [
    "from models.likelihoods import log_like_np\n",
    "from models.nptf_model import NPRegression\n",
    "from utils.templates import get_NFW2_template\n",
    "from utils.psf_correction import PSFCorrection\n",
    "from utils import create_mask as cm\n",
    "from models.psf import KingPSF"
   ]
  },
  {
   "cell_type": "code",
   "execution_count": 11,
   "metadata": {},
   "outputs": [
    {
     "data": {
      "image/png": "[encoded data removed]",
      "text/plain": [
       "<Figure size 612x388.8 with 1 Axes>"
      ]
     },
     "metadata": {
      "needs_background": "light"
     },
     "output_type": "display_data"
    }
   ],
   "source": [
    "nside = 128\n",
    "ps_mask = hp.ud_grade(np.load(\"../data/mask_3fgl_0p8deg.npy\") > 0, nside_out=nside)\n",
    "\n",
    "mask = cm.make_mask_total(nside=nside, band_mask = True, band_mask_range = 2,\n",
    "                          mask_ring = True, inner = 0, outer = 25, \n",
    "                          custom_mask=ps_mask)\n",
    "\n",
    "hp.mollview(mask,title='',cbar=False,min=0,max=1)"
   ]
  },
  {
   "cell_type": "code",
   "execution_count": 20,
   "metadata": {},
   "outputs": [],
   "source": [
    "# Load templates\n",
    "temp_gce = get_NFW2_template(gamma=1.2)\n",
    "temp_dif = np.load(\"../data/fermi_data/template_dif.npy\")\n",
    "temp_psc = np.load(\"../data/fermi_data/template_psc.npy\")\n",
    "temp_iso = np.load(\"../data/fermi_data/template_iso.npy\")\n",
    "temp_dsk = np.load(\"../data/fermi_data/template_dsk.npy\")\n",
    "temp_bub = np.load(\"../data/fermi_data/template_bub.npy\")\n",
    "\n",
    "temp_mO_pibrem = np.load('../data/fermi_data/ModelO_r25_q1_pibrem.npy')\n",
    "temp_mO_ics = np.load('../data/fermi_data/ModelO_r25_q1_ics.npy')\n",
    "\n",
    "temp_mA_pibrem = hp.ud_grade(np.load('../data/modelA/modelA_brempi0.npy'), nside_out=128, power=-2)\n",
    "temp_mA_ics = hp.ud_grade(np.load('../data/modelA/modelA_ics.npy'), nside_out=128, power=-2)\n",
    "\n",
    "fermi_exp = np.load(\"../data/fermi_data/fermidata_exposure.npy\")\n",
    "fermi_data = np.load(\"../data/fermi_data/fermidata_counts.npy\")\n",
    "\n",
    "ps_mask = np.load(\"../data/mask_3fgl_0p8deg.npy\")\n",
    "roi_mask = cm.make_mask_total(nside=128, band_mask = True, band_mask_range=2, mask_ring=True, inner=0, outer=25, custom_mask=ps_mask)"
   ]
  },
  {
   "cell_type": "code",
   "execution_count": 92,
   "metadata": {},
   "outputs": [
    {
     "name": "stdout",
     "output_type": "stream",
     "text": [
      "Loading the psf correction from: /Users/smsharma/PycharmProjects/sbi-fermi/notebooks/psf_dir/Fermi_PSF_2GeV.npy\n"
     ]
    }
   ],
   "source": [
    "# Define parameters that specify the Fermi-LAT PSF at 2 GeV\n",
    "fcore = 0.748988248179\n",
    "score = 0.428653790656\n",
    "gcore = 7.82363229341\n",
    "stail = 0.715962650769\n",
    "gtail = 3.61883748683\n",
    "spe = 0.00456544262478\n",
    "\n",
    "# Define the full PSF in terms of two King functions\n",
    "def king_fn(x, sigma, gamma):\n",
    "    return 1./(2.*np.pi*sigma**2.)*(1.-1./gamma)*(1.+(x**2./(2.*gamma*sigma**2.)))**(-gamma)\n",
    "\n",
    "def Fermi_PSF(r):\n",
    "    return fcore*king_fn(r/spe,score,gcore) + (1-fcore)*king_fn(r/spe,stail,gtail)\n",
    "\n",
    "# Modify the relevant parameters in pc_inst and then make or load the PSF\n",
    "pc_inst = PSFCorrection(delay_compute=True)\n",
    "pc_inst.psf_r_func = lambda r: Fermi_PSF(r)\n",
    "pc_inst.sample_psf_max = 10.*spe*(score+stail)/2.\n",
    "pc_inst.psf_samples = 10000\n",
    "pc_inst.psf_tag = 'Fermi_PSF_2GeV'\n",
    "pc_inst.make_or_load_psf_corr()\n",
    "\n",
    "# Extract f_ary and df_rho_div_f_ary as usual\n",
    "f_ary = pc_inst.f_ary\n",
    "df_rho_div_f_ary = pc_inst.df_rho_div_f_ary"
   ]
  },
  {
   "cell_type": "code",
   "execution_count": 215,
   "metadata": {},
   "outputs": [],
   "source": [
    "nside = 128\n",
    "\n",
    "# Get mask of central pixel for nside=1\n",
    "hp_mask_nside1 = cm.make_mask_total(nside=1, band_mask=True, band_mask_range=0, mask_ring=True, inner=0, outer=25)\n",
    "\n",
    "# Get mask corresponding to nside=128\n",
    "mask_sim = hp.ud_grade(hp_mask_nside1, nside)\n",
    "\n",
    "npix = hp.nside2npix(nside)\n",
    "pixarea = hp.nside2pixarea(nside, degrees=False)\n",
    "pixarea_deg = hp.nside2pixarea(nside, degrees=True)"
   ]
  },
  {
   "cell_type": "code",
   "execution_count": 428,
   "metadata": {},
   "outputs": [
    {
     "name": "stderr",
     "output_type": "stream",
     "text": [
      "../models/nptf_model.py:25: UserWarning: To copy construct from a tensor, it is recommended to use sourceTensor.clone().detach() or sourceTensor.clone().detach().requires_grad_(True), rather than torch.tensor(sourceTensor).\n",
      "  self.data = torch.tensor(data)\n"
     ]
    }
   ],
   "source": [
    "npr = NPRegression(poiss_temps=[temp_iso, temp_bub, temp_psc, temp_mO_pibrem, temp_mO_ics, temp_gce],\n",
    "            poiss_priors=[dist.Uniform(torch.tensor(0.02), torch.tensor(1.5)),\n",
    "                          dist.Uniform(torch.tensor(0.02), torch.tensor(1.5)),\n",
    "                          dist.Uniform(torch.tensor(0.02), torch.tensor(1.5)),\n",
    "                          dist.Normal(torch.tensor(6.), torch.tensor(12.)),\n",
    "                          dist.Uniform(torch.tensor(2.), torch.tensor(6.)),\n",
    "                          dist.Uniform(torch.tensor(0.001), torch.tensor(1.))],\n",
    "            poiss_log_priors=torch.tensor([0., 0., 0., 0.,0., 0.]),\n",
    "            ps_temps=[temp_gce, temp_dsk],\n",
    "            ps_priors=2 * [[dist.Uniform(torch.tensor(0.001), torch.tensor(1.)), \n",
    "                        dist.Uniform(torch.tensor(11.0), torch.tensor(20.0)), \n",
    "                        dist.Uniform(torch.tensor(0.1), torch.tensor(1.99)), \n",
    "                        dist.Uniform(torch.tensor(-10.0), torch.tensor(1.99)), \n",
    "                        dist.Uniform(torch.tensor(5.), torch.tensor(50.)), \n",
    "                        dist.Uniform(torch.tensor(0.1), torch.tensor(4.99))]],\n",
    "            ps_log_priors=torch.tensor(2 * [[0., 0., 0., 0., 0., 0.]]),\n",
    "            data = torch.tensor(fermi_data, dtype=torch.float64),\n",
    "            labels_poiss=[\"iso\", \"bub\", \"psc\", \"brem\", \"pi0\", \"gce\"],\n",
    "            labels_ps=[\"gce\", \"dsk\"],\n",
    "            mask=mask,\n",
    "            mask_sim=mask_sim,\n",
    "            f_ary=f_ary,\n",
    "            df_rho_div_f_ary=df_rho_div_f_ary,\n",
    "            subsample_size=2048)"
   ]
  },
  {
   "cell_type": "code",
   "execution_count": 436,
   "metadata": {},
   "outputs": [],
   "source": [
    "# guide = AutoMultivariateNormal(npr.model, init_loc_fn=init_to_mean)\n",
    "guide = AutoIAFNormal(npr.model)"
   ]
  },
  {
   "cell_type": "code",
   "execution_count": 437,
   "metadata": {},
   "outputs": [],
   "source": [
    "elbo = TraceGraph_ELBO()\n",
    "optimizer = optim.AdamW({\"lr\": 1e-4})"
   ]
  },
  {
   "cell_type": "code",
   "execution_count": 439,
   "metadata": {},
   "outputs": [],
   "source": [
    "pyro.clear_param_store()\n",
    "\n",
    "num_iterations = 1000\n",
    "\n",
    "svi = SVI(npr.model,\n",
    "          guide,\n",
    "          optimizer,\n",
    "          loss=elbo)\n",
    "\n",
    "for j in range(num_iterations):\n",
    "    loss = svi.step()    \n",
    "    if j % 1 == 0:\n",
    "        print(\"[iteration %04d] loss: %.4f\" % (j + 1, loss / len(fermi_data)))"
   ]
  },
  {
   "cell_type": "code",
   "execution_count": 442,
   "metadata": {},
   "outputs": [],
   "source": [
    "# pyro.clear_param_store()\n",
    "\n",
    "# num_samples = 100\n",
    "\n",
    "# predictive = Predictive(npr.model, guide=guide, num_samples=num_samples)\n",
    "# svi_samples = {k: v.reshape(num_samples).detach().cpu().numpy()\n",
    "#                for k, v in (predictive().items())\n",
    "#                if k != \"obs\"}\n"
   ]
  },
  {
   "cell_type": "code",
   "execution_count": 444,
   "metadata": {},
   "outputs": [],
   "source": [
    "# nuts_kernel = NUTS(npr.model, adapt_mass_matrix=False, adapt_step_size=False)\n",
    "\n",
    "# mcmc = MCMC(nuts_kernel, num_samples=20, warmup_steps=10)\n",
    "# mcmc.run()\n",
    "\n",
    "# hmc_samples = {k: v.detach().cpu().numpy() for k, v in mcmc.get_samples().items()}"
   ]
  },
  {
   "cell_type": "code",
   "execution_count": 136,
   "metadata": {},
   "outputs": [
    {
     "data": {
      "image/png": "[encoded data removed]",
      "text/plain": [
       "<Figure size 432x288 with 1 Axes>"
      ]
     },
     "metadata": {
      "needs_background": "light"
     },
     "output_type": "display_data"
    }
   ],
   "source": [
    "# from models.scd import dnds\n",
    "samplez = np.transpose([svi_samples[key] for key in svi_samples.keys()])\n",
    "samplez[:,6] = 10 ** samplez[:,6]\n",
    "samplez[:,11] = 10 ** samplez[:,11]\n",
    "s_ary = np.logspace(-2, 2)\n",
    "dnds_ary = [dnds(torch.tensor(s_ary), torch.tensor(s)).detach().numpy() for s in samplez[:,6:12]]\n",
    "plt.plot(s_ary, np.median(dnds_ary, axis=0))\n",
    "plt.fill_between(s_ary, np.percentile(dnds_ary, [5.], axis=0)[0], np.percentile(dnds_ary, [95.], axis=0)[0], alpha=0.2)\n",
    "# theta_sim = torch.tensor([4000., 20., 1.8, -20., 30., 1.])\n",
    "# plt.plot(s_ary, dnds(torch.tensor(s_ary), theta_sim).detach().numpy() / len(data))\n",
    "plt.xlim(1e-2, 1e2)\n",
    "plt.ylim(1e-6, 1e-1)\n",
    "plt.axvline(np.sqrt(np.mean(fermi_data[~mask])))\n",
    "\n",
    "plt.xscale(\"log\")\n",
    "plt.yscale(\"log\")\n"
   ]
  },
  {
   "cell_type": "code",
   "execution_count": 141,
   "metadata": {},
   "outputs": [],
   "source": []
  }
 ],
 "metadata": {
  "kernelspec": {
   "display_name": "Python [conda env:root] *",
   "language": "python",
   "name": "conda-root-py"
  },
  "language_info": {
   "codemirror_mode": {
    "name": "ipython",
    "version": 3
   },
   "file_extension": ".py",
   "mimetype": "text/x-python",
   "name": "python",
   "nbconvert_exporter": "python",
   "pygments_lexer": "ipython3",
   "version": "3.7.3"
  }
 },
 "nbformat": 4,
 "nbformat_minor": 2
}
