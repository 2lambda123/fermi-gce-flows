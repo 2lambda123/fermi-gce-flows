{
 "cells": [
  {
   "cell_type": "code",
   "execution_count": 187,
   "metadata": {},
   "outputs": [
    {
     "name": "stdout",
     "output_type": "stream",
     "text": [
      "The autoreload extension is already loaded. To reload it, use:\n",
      "  %reload_ext autoreload\n"
     ]
    }
   ],
   "source": [
    "import numpy as np\n",
    "import healpy as hp\n",
    "from sklearn.decomposition import PCA\n",
    "import matplotlib.pyplot as plt\n",
    "\n",
    "%matplotlib inline\n",
    "%load_ext autoreload\n",
    "%autoreload 2"
   ]
  },
  {
   "cell_type": "code",
   "execution_count": 188,
   "metadata": {},
   "outputs": [],
   "source": [
    "X = np.load(\"../data/samples/x_train_ModelO_gamma_fix_336.npy\")\n",
    "y = np.load(\"../data/samples/theta_train_ModelO_gamma_fix_336.npy\")"
   ]
  },
  {
   "cell_type": "code",
   "execution_count": 189,
   "metadata": {},
   "outputs": [],
   "source": [
    "pca = PCA(n_components=96)"
   ]
  },
  {
   "cell_type": "code",
   "execution_count": 190,
   "metadata": {},
   "outputs": [],
   "source": [
    "pca_fit = pca.fit(X[:,0,:])"
   ]
  },
  {
   "cell_type": "code",
   "execution_count": 191,
   "metadata": {},
   "outputs": [],
   "source": [
    "X_pca = pca_fit.transform(X[:,0,:])"
   ]
  },
  {
   "cell_type": "code",
   "execution_count": 192,
   "metadata": {},
   "outputs": [],
   "source": [
    "# pca.explained_variance_ratio_"
   ]
  },
  {
   "cell_type": "code",
   "execution_count": 193,
   "metadata": {},
   "outputs": [
    {
     "data": {
      "text/plain": [
       "array([ 1.1252532e+02, -2.6518450e+00,  4.4894695e+01, -4.2819395e+00,\n",
       "       -1.0687959e+01, -1.9303728e+01,  1.5215264e+01,  1.4187441e+01,\n",
       "        1.0145568e+01,  1.5354810e+01,  1.4003423e+01, -6.0758018e+00,\n",
       "        2.4398960e+01, -1.1939001e+00,  9.2066221e+00,  2.6256163e+01,\n",
       "       -1.2465423e+01, -6.5357943e+00, -1.3632696e+01, -3.2597191e+00,\n",
       "        1.8390356e+00, -8.3348770e+00, -3.5041830e-01, -1.7826509e+01,\n",
       "        2.7421009e+01, -3.2218307e+01,  2.8413415e-01,  2.1458447e+00,\n",
       "        2.3878122e+01, -5.6029329e+00,  1.8759062e+00,  1.5538021e+00,\n",
       "        5.2718906e+00,  8.0814018e+00, -1.5126908e+01, -1.1289374e+01,\n",
       "        1.7601488e+01, -9.7173719e+00,  2.3493292e+01,  8.3478708e+00,\n",
       "       -1.4014924e+01,  8.5086465e-01, -1.5169765e+00,  5.1824993e+01,\n",
       "        4.4200647e-01, -1.1505685e+01,  4.9922981e+00, -3.0465481e+00,\n",
       "       -2.5711908e+01,  2.4519539e+00, -8.9150591e+00,  3.4014928e+00,\n",
       "        2.0155195e+01, -1.1004141e-01,  3.9515118e+01,  9.6636162e+00,\n",
       "        3.8030775e+00,  8.7034166e-01,  1.8539846e+01, -7.2643292e-01,\n",
       "       -9.4461889e+00, -3.9889569e+00,  4.8275647e+00,  1.2186330e+01,\n",
       "        2.7062550e+01, -1.5715544e+01,  2.1716383e+01, -2.4810839e+01,\n",
       "       -3.1286453e+01,  2.5168165e+01,  4.9838996e+00,  2.9254454e+01,\n",
       "        8.4244986e+00,  5.5744853e+00, -2.1462811e+01, -2.5312188e-01,\n",
       "       -1.9933218e+01,  2.7279884e+01, -8.9081717e+00,  3.2985904e+00,\n",
       "        2.7959810e+01, -1.9259539e+01, -2.9517969e+01,  1.8987215e+01,\n",
       "       -2.1948948e+01,  2.0929456e+00,  1.9582504e+01, -9.1389217e+00,\n",
       "       -3.2021660e-01,  2.9407219e+01,  5.8612299e+00,  1.3653702e+01,\n",
       "        1.5399173e+00, -1.6613482e+01,  1.9551260e+01,  1.3848308e+00],\n",
       "      dtype=float32)"
      ]
     },
     "execution_count": 193,
     "metadata": {},
     "output_type": "execute_result"
    }
   ],
   "source": [
    "X_pca[0]"
   ]
  },
  {
   "cell_type": "code",
   "execution_count": 73,
   "metadata": {},
   "outputs": [
    {
     "data": {
      "text/plain": [
       "(array([  3.,  19.,  92., 564., 291.,  20.,   8.,   2.,   0.,   1.]),\n",
       " array([-99.80465  , -73.135826 , -46.467007 , -19.798187 ,   6.8706346,\n",
       "         33.539455 ,  60.208275 ,  86.8771   , 113.54592  , 140.21474  ,\n",
       "        166.88356  ], dtype=float32),\n",
       " <a list of 10 Patch objects>)"
      ]
     },
     "execution_count": 73,
     "metadata": {},
     "output_type": "execute_result"
    },
    {
     "data": {
      "image/png": "[encoded data removed]",
      "text/plain": [
       "<Figure size 432x288 with 1 Axes>"
      ]
     },
     "metadata": {
      "needs_background": "light"
     },
     "output_type": "display_data"
    }
   ],
   "source": [
    "plt.hist(X_pca[:, 10])"
   ]
  },
  {
   "cell_type": "code",
   "execution_count": 79,
   "metadata": {},
   "outputs": [
    {
     "name": "stderr",
     "output_type": "stream",
     "text": [
      "/Users/smsharma/anaconda3/lib/python3.7/site-packages/sklearn/linear_model/_ridge.py:190: UserWarning: Singular matrix in solving dual problem. Using least-squares solution instead.\n",
      "  warnings.warn(\"Singular matrix in solving dual problem. Using \"\n"
     ]
    }
   ],
   "source": [
    "from sklearn.ensemble import GradientBoostingRegressor\n",
    "from sklearn.kernel_ridge import KernelRidge\n",
    "\n",
    "X_train, X_test = X_pca[:800], X_pca[800:]\n",
    "y_train, y_test = y[:800], y[800:]\n",
    "est = KernelRidge().fit(X_train, y_train)\n"
   ]
  },
  {
   "cell_type": "code",
   "execution_count": 81,
   "metadata": {},
   "outputs": [],
   "source": [
    "y_preds = est.predict(X_test)"
   ]
  },
  {
   "cell_type": "code",
   "execution_count": 91,
   "metadata": {},
   "outputs": [
    {
     "data": {
      "text/plain": [
       "<matplotlib.collections.PathCollection at 0x7fbcadc0e240>"
      ]
     },
     "execution_count": 91,
     "metadata": {},
     "output_type": "execute_result"
    },
    {
     "data": {
      "image/png": "[encoded data removed]",
      "text/plain": [
       "<Figure size 432x288 with 1 Axes>"
      ]
     },
     "metadata": {
      "needs_background": "light"
     },
     "output_type": "display_data"
    }
   ],
   "source": [
    "param = 15\n",
    "plt.scatter(y_test[:, param], y_preds[:, param])"
   ]
  },
  {
   "cell_type": "code",
   "execution_count": null,
   "metadata": {},
   "outputs": [],
   "source": []
  }
 ],
 "metadata": {
  "kernelspec": {
   "display_name": "Python 3",
   "language": "python",
   "name": "python3"
  },
  "language_info": {
   "codemirror_mode": {
    "name": "ipython",
    "version": 3
   },
   "file_extension": ".py",
   "mimetype": "text/x-python",
   "name": "python",
   "nbconvert_exporter": "python",
   "pygments_lexer": "ipython3",
   "version": "3.7.3"
  }
 },
 "nbformat": 4,
 "nbformat_minor": 2
}
