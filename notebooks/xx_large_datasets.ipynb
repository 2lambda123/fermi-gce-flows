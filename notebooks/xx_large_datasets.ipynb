{
 "cells": [
  {
   "cell_type": "code",
   "execution_count": 30,
   "id": "0cb10da9-98b9-44ce-961c-70f5225451ae",
   "metadata": {},
   "outputs": [
    {
     "name": "stdout",
     "output_type": "stream",
     "text": [
      "The autoreload extension is already loaded. To reload it, use:\n",
      "  %reload_ext autoreload\n"
     ]
    }
   ],
   "source": [
    "import torch\n",
    "from torch.utils.data import Dataset, DataLoader, ConcatDataset\n",
    "from torch.utils.data.sampler import SubsetRandomSampler\n",
    "import numpy as np\n",
    "\n",
    "%matplotlib inline\n",
    "%load_ext autoreload\n",
    "%autoreload 2"
   ]
  },
  {
   "cell_type": "code",
   "execution_count": 31,
   "id": "9ed7b7ab-82bf-4c56-9a8a-819b66835e89",
   "metadata": {},
   "outputs": [],
   "source": [
    "class NumpyDataset(Dataset):\n",
    "    \"\"\" Dataset for numpy arrays with explicit memmap support \"\"\"\n",
    "\n",
    "    def __init__(self, *arrays, dtype=torch.float):\n",
    "        self.dtype = dtype\n",
    "        self.memmap = []\n",
    "        self.data = []\n",
    "        self.n = None\n",
    "\n",
    "        for array in arrays:\n",
    "            if self.n is None:\n",
    "                self.n = array.shape[0]\n",
    "            assert array.shape[0] == self.n\n",
    "\n",
    "            if isinstance(array, np.memmap):\n",
    "                self.memmap.append(True)\n",
    "                self.data.append(array)\n",
    "            else:\n",
    "                self.memmap.append(False)\n",
    "                tensor = torch.from_numpy(array).to(self.dtype)\n",
    "                self.data.append(tensor)\n",
    "\n",
    "    def __getitem__(self, index):\n",
    "        items = []\n",
    "        for memmap, array in zip(self.memmap, self.data):\n",
    "            if memmap:\n",
    "                tensor = np.array(array[index])\n",
    "                items.append(torch.from_numpy(tensor).to(self.dtype))\n",
    "            else:\n",
    "                items.append(array[index])\n",
    "        return tuple(items)\n",
    "\n",
    "    def __len__(self):\n",
    "        return self.n"
   ]
  },
  {
   "cell_type": "code",
   "execution_count": 116,
   "id": "0d232239-9079-439a-933e-b5c856cfcec6",
   "metadata": {},
   "outputs": [],
   "source": [
    "def make_dataloaders(dataset, validation_split, batch_size, num_workers=1, pin_memory=True, seed=None):\n",
    "    if validation_split is None or validation_split <= 0.0:\n",
    "        train_loader = DataLoader(\n",
    "            dataset,\n",
    "            batch_size=batch_size,\n",
    "            shuffle=True,\n",
    "            pin_memory=pin_memory,\n",
    "            num_workers=num_workers,\n",
    "        ) \n",
    "        val_loader = None\n",
    "    else:\n",
    "        assert 0.0 < validation_split < 1.0, \"Wrong validation split: {}\".format(validation_split)\n",
    "\n",
    "        n_samples = len(dataset)\n",
    "        indices = list(range(n_samples))\n",
    "        split = int(np.floor(validation_split * n_samples))\n",
    "        if seed is not None:\n",
    "            np.random.seed(seed)\n",
    "        np.random.shuffle(indices)\n",
    "        train_idx, valid_idx = indices[split:], indices[:split]\n",
    "\n",
    "        train_sampler = SubsetRandomSampler(train_idx)\n",
    "        val_sampler = SubsetRandomSampler(valid_idx)\n",
    "\n",
    "        train_loader = DataLoader(\n",
    "            dataset,\n",
    "            sampler=train_sampler,\n",
    "            batch_size=batch_size,\n",
    "            pin_memory=pin_memory,\n",
    "            num_workers=num_workers,\n",
    "        ) \n",
    "        val_loader = DataLoader(\n",
    "            dataset,\n",
    "            sampler=val_sampler,\n",
    "            batch_size=batch_size,\n",
    "            pin_memory=pin_memory,\n",
    "            num_workers=num_workers,\n",
    "        )  \n",
    "\n",
    "    return train_loader, val_loader"
   ]
  },
  {
   "cell_type": "code",
   "execution_count": 249,
   "id": "afd2bc6f-d888-4557-ae72-5878dd30f142",
   "metadata": {},
   "outputs": [],
   "source": [
    "n_files = 4\n",
    "\n",
    "from collections import OrderedDict\n",
    "data = OrderedDict()\n",
    "\n",
    "data['x'] = [np.load(\"../data/samples/x_train_ModelO_gamma_default_{}.npy\".format(i), mmap_mode=\"r\") for i in range(n_files)]\n",
    "data['x_aux'] = [np.load(\"../data/samples/x_aux_train_ModelO_gamma_default_{}.npy\".format(i)) for i in range(n_files)]\n",
    "data['theta'] = [np.load(\"../data/samples/theta_train_ModelO_gamma_default_{}.npy\".format(i)) for i in range(n_files)]\n"
   ]
  },
  {
   "cell_type": "code",
   "execution_count": 250,
   "id": "6abc93f9-3bb1-427b-b33c-b3c5701b6f04",
   "metadata": {},
   "outputs": [],
   "source": [
    "import six\n",
    "\n",
    "def make_datasets(data):\n",
    "    datasets = []\n",
    "    for i in range(len(data[next(iter(data))])):\n",
    "        data_arrays = []\n",
    "        for key, value in six.iteritems(data):\n",
    "            data_arrays.append(value[i])\n",
    "        datasets.append(NumpyDataset(*data_arrays, dtype=torch.float))\n",
    "    return ConcatDataset(datasets)"
   ]
  },
  {
   "cell_type": "code",
   "execution_count": 269,
   "id": "6a0783c8-6313-46f7-a9ca-4711d4db3239",
   "metadata": {},
   "outputs": [],
   "source": [
    "data_arrays_list = []\n",
    "data_labels = []\n",
    "for key, value in six.iteritems(data):\n",
    "    data_labels.append(key)\n",
    "    data_arrays_list.append(value)"
   ]
  },
  {
   "cell_type": "code",
   "execution_count": 270,
   "id": "429fcf1b-cead-4e8e-a802-ee189dd8a767",
   "metadata": {},
   "outputs": [],
   "source": [
    "train_loader, val_loader = make_dataloaders(make_datasets(data), 0.1, 64, num_workers=0, pin_memory=False"
   ]
  },
  {
   "cell_type": "code",
   "execution_count": 268,
   "id": "cfc518a8-ce69-4b17-8522-055181afa01e",
   "metadata": {},
   "outputs": [],
   "source": [
    "theta_z_score, x_z_score, x_aux_z_score = [], [], []\n",
    "n_batches = 4\n",
    "for i, batch in enumerate(train_loader):\n",
    "    if i < n_batches:\n",
    "        x, x_aux, theta = batch\n",
    "        x_z_score.append(x)\n",
    "        x_aux_z_score.append(x_aux)\n",
    "        theta_z_score.append(theta)\n",
    "    else:\n",
    "        break"
   ]
  },
  {
   "cell_type": "code",
   "execution_count": 281,
   "id": "0ddf71d6-9bf7-4987-9ef1-26f0ac9a57ff",
   "metadata": {},
   "outputs": [],
   "source": [
    "del a"
   ]
  },
  {
   "cell_type": "code",
   "execution_count": 286,
   "id": "0bb3be11-f0f8-4f41-b081-fb96353b97ff",
   "metadata": {},
   "outputs": [],
   "source": [
    "a = np.memmap('test.npy', dtype='float32', mode='w+', shape=(500000, 64,64))"
   ]
  },
  {
   "cell_type": "code",
   "execution_count": 288,
   "id": "90005331-78f5-4ced-9b1e-ff750c56d21b",
   "metadata": {},
   "outputs": [],
   "source": [
    "a[:20, :] = 12."
   ]
  },
  {
   "cell_type": "code",
   "execution_count": 289,
   "id": "0a7a67ae-013f-4f3e-9dc9-7917fadc730b",
   "metadata": {},
   "outputs": [
    {
     "data": {
      "text/plain": [
       "memmap([[[12., 12., 12., ..., 12., 12., 12.],\n",
       "         [12., 12., 12., ..., 12., 12., 12.],\n",
       "         [12., 12., 12., ..., 12., 12., 12.],\n",
       "         ...,\n",
       "         [12., 12., 12., ..., 12., 12., 12.],\n",
       "         [12., 12., 12., ..., 12., 12., 12.],\n",
       "         [12., 12., 12., ..., 12., 12., 12.]],\n",
       "\n",
       "        [[12., 12., 12., ..., 12., 12., 12.],\n",
       "         [12., 12., 12., ..., 12., 12., 12.],\n",
       "         [12., 12., 12., ..., 12., 12., 12.],\n",
       "         ...,\n",
       "         [12., 12., 12., ..., 12., 12., 12.],\n",
       "         [12., 12., 12., ..., 12., 12., 12.],\n",
       "         [12., 12., 12., ..., 12., 12., 12.]],\n",
       "\n",
       "        [[12., 12., 12., ..., 12., 12., 12.],\n",
       "         [12., 12., 12., ..., 12., 12., 12.],\n",
       "         [12., 12., 12., ..., 12., 12., 12.],\n",
       "         ...,\n",
       "         [12., 12., 12., ..., 12., 12., 12.],\n",
       "         [12., 12., 12., ..., 12., 12., 12.],\n",
       "         [12., 12., 12., ..., 12., 12., 12.]],\n",
       "\n",
       "        ...,\n",
       "\n",
       "        [[ 0.,  0.,  0., ...,  0.,  0.,  0.],\n",
       "         [ 0.,  0.,  0., ...,  0.,  0.,  0.],\n",
       "         [ 0.,  0.,  0., ...,  0.,  0.,  0.],\n",
       "         ...,\n",
       "         [ 0.,  0.,  0., ...,  0.,  0.,  0.],\n",
       "         [ 0.,  0.,  0., ...,  0.,  0.,  0.],\n",
       "         [ 0.,  0.,  0., ...,  0.,  0.,  0.]],\n",
       "\n",
       "        [[ 0.,  0.,  0., ...,  0.,  0.,  0.],\n",
       "         [ 0.,  0.,  0., ...,  0.,  0.,  0.],\n",
       "         [ 0.,  0.,  0., ...,  0.,  0.,  0.],\n",
       "         ...,\n",
       "         [ 0.,  0.,  0., ...,  0.,  0.,  0.],\n",
       "         [ 0.,  0.,  0., ...,  0.,  0.,  0.],\n",
       "         [ 0.,  0.,  0., ...,  0.,  0.,  0.]],\n",
       "\n",
       "        [[ 0.,  0.,  0., ...,  0.,  0.,  0.],\n",
       "         [ 0.,  0.,  0., ...,  0.,  0.,  0.],\n",
       "         [ 0.,  0.,  0., ...,  0.,  0.,  0.],\n",
       "         ...,\n",
       "         [ 0.,  0.,  0., ...,  0.,  0.,  0.],\n",
       "         [ 0.,  0.,  0., ...,  0.,  0.,  0.],\n",
       "         [ 0.,  0.,  0., ...,  0.,  0.,  0.]]], dtype=float32)"
      ]
     },
     "execution_count": 289,
     "metadata": {},
     "output_type": "execute_result"
    }
   ],
   "source": [
    "a"
   ]
  },
  {
   "cell_type": "code",
   "execution_count": 293,
   "id": "904a5159-ae19-4025-9d20-3c2dadde9a62",
   "metadata": {},
   "outputs": [],
   "source": [
    "b = np.memmap('test.npy', dtype='float32', mode='c', shape=(500000, 64,64))"
   ]
  },
  {
   "cell_type": "code",
   "execution_count": 294,
   "id": "17967998-dd44-451c-be46-716f0e8527db",
   "metadata": {},
   "outputs": [
    {
     "data": {
      "text/plain": [
       "(500000, 64, 64)"
      ]
     },
     "execution_count": 294,
     "metadata": {},
     "output_type": "execute_result"
    }
   ],
   "source": [
    "b.shape"
   ]
  },
  {
   "cell_type": "code",
   "execution_count": null,
   "id": "2c7d050e-c9f0-4f0f-8ef1-4e5ea94a59bc",
   "metadata": {},
   "outputs": [],
   "source": []
  }
 ],
 "metadata": {
  "kernelspec": {
   "display_name": "Python 3",
   "language": "python",
   "name": "python3"
  },
  "language_info": {
   "codemirror_mode": {
    "name": "ipython",
    "version": 3
   },
   "file_extension": ".py",
   "mimetype": "text/x-python",
   "name": "python",
   "nbconvert_exporter": "python",
   "pygments_lexer": "ipython3",
   "version": "3.6.13"
  }
 },
 "nbformat": 4,
 "nbformat_minor": 5
}
