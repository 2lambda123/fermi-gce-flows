{
 "cells": [
  {
   "cell_type": "code",
   "execution_count": 5,
   "metadata": {},
   "outputs": [],
   "source": [
    "import numpy as np\n",
    "import healpy as hp\n",
    "import matplotlib.pyplot as plt\n",
    "from tqdm import *\n",
    "\n",
    "%matplotlib inline\n",
    "%load_ext autoreload\n",
    "%autoreload 2"
   ]
  },
  {
   "cell_type": "code",
   "execution_count": 6,
   "metadata": {},
   "outputs": [],
   "source": [
    "import sys\n",
    "sys.path.append(\"../\")"
   ]
  },
  {
   "cell_type": "code",
   "execution_count": 7,
   "metadata": {},
   "outputs": [],
   "source": [
    "import torch\n",
    "from torch import nn\n",
    "\n",
    "from models.embedding import SphericalGraphCNN"
   ]
  },
  {
   "cell_type": "code",
   "execution_count": 8,
   "metadata": {},
   "outputs": [],
   "source": [
    "from utils import create_mask as cm\n",
    "from simulations.wrapper import simulator\n",
    "from models.scd import dnds\n",
    "from utils.psf_correction import PSFCorrection\n",
    "from models.psf import KingPSF\n",
    "from utils.templates import get_NFW2_template\n",
    "from sbi import utils\n",
    "from operator import itemgetter"
   ]
  },
  {
   "cell_type": "markdown",
   "metadata": {},
   "source": [
    "## Test embedding net"
   ]
  },
  {
   "cell_type": "code",
   "execution_count": 44,
   "metadata": {},
   "outputs": [],
   "source": [
    "r_outer = 25"
   ]
  },
  {
   "cell_type": "code",
   "execution_count": 45,
   "metadata": {},
   "outputs": [],
   "source": [
    "nside_list = [128, 64, 32, 16, 8, 4, 2]"
   ]
  },
  {
   "cell_type": "code",
   "execution_count": 46,
   "metadata": {},
   "outputs": [],
   "source": [
    "hp_mask_nside1 = cm.make_mask_total(nside=1, band_mask = True, band_mask_range = 0,\n",
    "                              mask_ring = True, inner = 0, outer = r_outer)\n",
    "\n",
    "indexes_list = []\n",
    "masks_list = []\n",
    "for nside in nside_list:\n",
    "    hp_mask = hp.ud_grade(hp_mask_nside1, nside)\n",
    "    masks_list.append(hp_mask)\n",
    "    indexes_list.append(np.arange(hp.nside2npix(nside))[~hp_mask])"
   ]
  },
  {
   "cell_type": "code",
   "execution_count": 47,
   "metadata": {},
   "outputs": [],
   "source": [
    "ps_mask = np.load(\"../data/mask_3fgl_0p8deg.npy\")"
   ]
  },
  {
   "cell_type": "code",
   "execution_count": 48,
   "metadata": {},
   "outputs": [],
   "source": [
    "kp = KingPSF()\n",
    "\n",
    "pc_inst = PSFCorrection(delay_compute=True)\n",
    "pc_inst.psf_r_func = lambda r: kp.psf_fermi_r(r)"
   ]
  },
  {
   "cell_type": "code",
   "execution_count": 49,
   "metadata": {},
   "outputs": [],
   "source": [
    "# Load templates\n",
    "\n",
    "fermi_exp = np.load(\"../data/fermi_data/fermidata_exposure.npy\")\n",
    "\n",
    "roi_normalize_temps = cm.make_mask_total(nside=128, band_mask = True, band_mask_range=2, mask_ring=True, inner=0, outer=30)\n",
    "\n",
    "# temp_gce = np.load(\"../data/fermi_data/template_gce.npy\")\n",
    "temp_gce = get_NFW2_template(gamma=1.2, exp_map=fermi_exp, roi_normalize=roi_normalize_temps)\n",
    "temp_dif = np.load(\"../data/fermi_data/template_dif.npy\")\n",
    "temp_psc = np.load(\"../data/fermi_data/template_psc.npy\")\n",
    "temp_iso = np.load(\"../data/fermi_data/template_iso.npy\")\n",
    "temp_dsk = np.load(\"../data/fermi_data/template_dsk.npy\")\n",
    "temp_bub = np.load(\"../data/fermi_data/template_bub.npy\")\n",
    "\n",
    "temp_mO_pibrem = np.load('../data/fermi_data/ModelO_r25_q1_pibrem.npy')\n",
    "temp_mO_ics = np.load('../data/fermi_data/ModelO_r25_q1_ics.npy')\n",
    "\n",
    "temp_mA_pibrem = hp.ud_grade(np.load('../data/modelA/modelA_brempi0.npy'), nside_out=128, power=-2)\n",
    "temp_mA_ics = hp.ud_grade(np.load('../data/modelA/modelA_ics.npy'), nside_out=128, power=-2)\n",
    "\n",
    "ps_mask = np.load(\"../data/mask_3fgl_0p8deg.npy\")\n",
    "roi_mask = cm.make_mask_total(nside=128, band_mask = True, band_mask_range=2, mask_ring=True, inner=0, outer=r_outer, custom_mask=ps_mask)\n",
    "roi_mask_norm = cm.make_mask_total(nside=128, band_mask = True, band_mask_range=2, mask_ring=True, inner=0, outer=r_outer)"
   ]
  },
  {
   "cell_type": "code",
   "execution_count": 50,
   "metadata": {},
   "outputs": [],
   "source": [
    "n_samples = 5"
   ]
  },
  {
   "cell_type": "code",
   "execution_count": 51,
   "metadata": {},
   "outputs": [],
   "source": [
    "def save_files(data_map, aux, theta, sample_name):\n",
    "    np.save(\"../data/samples/x_{}.npy\".format(sample_name), data_map)\n",
    "    np.save(\"../data/samples/x_aux_{}.npy\".format(sample_name), aux)\n",
    "    np.save(\"../data/samples/theta_{}.npy\".format(sample_name), theta)"
   ]
  },
  {
   "cell_type": "markdown",
   "metadata": {},
   "source": [
    "## Model O"
   ]
  },
  {
   "cell_type": "markdown",
   "metadata": {},
   "source": [
    "### PS only"
   ]
  },
  {
   "cell_type": "code",
   "execution_count": 64,
   "metadata": {},
   "outputs": [
    {
     "name": "stderr",
     "output_type": "stream",
     "text": [
      "/Users/smsharma/anaconda3/envs/sbi-fermi/lib/python3.6/site-packages/ipykernel_launcher.py:16: TqdmDeprecationWarning: This function will be removed in tqdm==5.0.0\n",
      "Please use `tqdm.notebook.tqdm` instead of `tqdm.tqdm_notebook`\n",
      "  app.launch_new_instance()\n"
     ]
    },
    {
     "data": {
      "application/vnd.jupyter.widget-view+json": {
       "model_id": "0df6fc0364134c40b895d961e1fa8516",
       "version_major": 2,
       "version_minor": 0
      },
      "text/plain": [
       "  0%|          | 0/5 [00:00<?, ?it/s]"
      ]
     },
     "metadata": {},
     "output_type": "display_data"
    }
   ],
   "source": [
    "# iso, bub, psc, dif\n",
    "prior_poiss = [[0.9, 0.18, 0.5, 8., 4.], [1., 0.22, 0.55, 8.1, 4.1]]\n",
    "\n",
    "# gce, dsk\n",
    "prior_ps = [[1.5, 10.0, 1.1, -10.0, 10.0, 0.1, 0.47957617, 15.288367  ,  1.6130469 ,\n",
    "        -4.5172763 , 23.960373  ,  2.4449606], [1.5, 20.0, 1.99, -9.99, 25.0, 4.99, 0.47957617, 15.288367  ,  1.6130469 ,\n",
    "        -4.5172763 , 23.960373  ,  2.4449606]]\n",
    "\n",
    "prior = utils.BoxUniform(low=torch.tensor([0.0] + prior_poiss[0] + prior_ps[0]), high=torch.tensor([0.000] + prior_poiss[1] + prior_ps[1]))\n",
    "\n",
    "thetas = prior.sample((n_samples,))\n",
    "\n",
    "temps_poiss_sim = [temp_gce, temp_iso, temp_bub, temp_psc, temp_mO_pibrem, temp_mO_ics]\n",
    "temps_ps_sim = [temp_gce, temp_dsk]\n",
    "\n",
    "maps = [simulator(theta.detach().numpy(), temps_poiss_sim, temps_ps_sim, masks_list[0], roi_mask_norm, roi_mask, pc_inst.psf_r_func, fermi_exp) for theta in tqdm_notebook(thetas)]\n",
    "\n",
    "data_map = torch.Tensor(list(map(itemgetter(0), maps)))\n",
    "aux = torch.Tensor(list(map(itemgetter(1), maps)))"
   ]
  },
  {
   "cell_type": "code",
   "execution_count": 65,
   "metadata": {},
   "outputs": [],
   "source": [
    "save_files(data_map, aux, thetas, \"ModelO_PS_only\")"
   ]
  },
  {
   "cell_type": "markdown",
   "metadata": {},
   "source": [
    "### DM only"
   ]
  },
  {
   "cell_type": "code",
   "execution_count": 66,
   "metadata": {},
   "outputs": [
    {
     "name": "stderr",
     "output_type": "stream",
     "text": [
      "/Users/smsharma/anaconda3/envs/sbi-fermi/lib/python3.6/site-packages/ipykernel_launcher.py:16: TqdmDeprecationWarning: This function will be removed in tqdm==5.0.0\n",
      "Please use `tqdm.notebook.tqdm` instead of `tqdm.tqdm_notebook`\n",
      "  app.launch_new_instance()\n"
     ]
    },
    {
     "data": {
      "application/vnd.jupyter.widget-view+json": {
       "model_id": "2f5268c74ebe4be1b398ef0aeda2db3c",
       "version_major": 2,
       "version_minor": 0
      },
      "text/plain": [
       "  0%|          | 0/5 [00:00<?, ?it/s]"
      ]
     },
     "metadata": {},
     "output_type": "display_data"
    }
   ],
   "source": [
    "# iso, bub, psc, dif\n",
    "prior_poiss = [[0.9, 0.18, 0.5, 8., 4.], [1., 0.22, 0.55, 8.1, 4.1]]\n",
    "\n",
    "# gce, dsk\n",
    "prior_ps = [[0., 10.0, 1.1, -10.0, 10.0, 0.1, 0.47957617, 15.288367  ,  1.6130469 , -4.5172763 , 23.960373  ,  2.4449606], [1e-5, 20.0, 1.99, -9.99, 25.0, 4.99, 0.47957617, 15.288367  ,  1.6130469 , -4.5172763 , 23.960373  ,  2.4449606]]\n",
    "\n",
    "prior = utils.BoxUniform(low=torch.tensor([1.5] + prior_poiss[0] + prior_ps[0]), high=torch.tensor([1.5] + prior_poiss[1] + prior_ps[1]))\n",
    "\n",
    "thetas = prior.sample((n_samples,))\n",
    "\n",
    "temps_poiss_sim = [temp_gce, temp_iso, temp_bub, temp_psc, temp_mO_pibrem, temp_mO_ics]\n",
    "temps_ps_sim = [temp_gce, temp_dsk]\n",
    "\n",
    "maps = [simulator(theta.detach().numpy(), temps_poiss_sim, temps_ps_sim, masks_list[0], roi_mask_norm, roi_mask, pc_inst.psf_r_func, fermi_exp) for theta in tqdm_notebook(thetas)]\n",
    "\n",
    "data_map = torch.Tensor(list(map(itemgetter(0), maps)))\n",
    "aux = torch.Tensor(list(map(itemgetter(1), maps)))"
   ]
  },
  {
   "cell_type": "code",
   "execution_count": 67,
   "metadata": {},
   "outputs": [
    {
     "name": "stderr",
     "output_type": "stream",
     "text": [
      "/Users/smsharma/anaconda3/envs/sbi-fermi/lib/python3.6/site-packages/healpy/projaxes.py:920: MatplotlibDeprecationWarning: You are modifying the state of a globally registered colormap. In future versions, you will not be able to modify a registered colormap in-place. To remove this warning, you can make a copy of the colormap first. cmap = copy.copy(mpl.cm.get_cmap(\"viridis\"))\n",
      "  newcm.set_over(newcm(1.0))\n",
      "/Users/smsharma/anaconda3/envs/sbi-fermi/lib/python3.6/site-packages/healpy/projaxes.py:921: MatplotlibDeprecationWarning: You are modifying the state of a globally registered colormap. In future versions, you will not be able to modify a registered colormap in-place. To remove this warning, you can make a copy of the colormap first. cmap = copy.copy(mpl.cm.get_cmap(\"viridis\"))\n",
      "  newcm.set_under(bgcolor)\n",
      "/Users/smsharma/anaconda3/envs/sbi-fermi/lib/python3.6/site-packages/healpy/projaxes.py:922: MatplotlibDeprecationWarning: You are modifying the state of a globally registered colormap. In future versions, you will not be able to modify a registered colormap in-place. To remove this warning, you can make a copy of the colormap first. cmap = copy.copy(mpl.cm.get_cmap(\"viridis\"))\n",
      "  newcm.set_bad(badcolor)\n",
      "/Users/smsharma/anaconda3/envs/sbi-fermi/lib/python3.6/site-packages/healpy/projaxes.py:211: MatplotlibDeprecationWarning: Passing parameters norm and vmin/vmax simultaneously is deprecated since 3.3 and will become an error two minor releases later. Please pass vmin/vmax directly to the norm when creating it.\n",
      "  **kwds\n"
     ]
    },
    {
     "data": {
      "image/png": "[encoded data removed]",
      "text/plain": [
       "<Figure size 612x388.8 with 2 Axes>"
      ]
     },
     "metadata": {
      "needs_background": "light"
     },
     "output_type": "display_data"
    }
   ],
   "source": [
    "the_map = np.zeros(hp.nside2npix(128))\n",
    "the_map[~masks_list[0]] = data_map[0, 0].detach().numpy()\n",
    "\n",
    "hp.mollview(the_map)"
   ]
  },
  {
   "cell_type": "code",
   "execution_count": 68,
   "metadata": {},
   "outputs": [],
   "source": [
    "save_files(data_map, aux, thetas, \"ModelO_DM_only\")"
   ]
  },
  {
   "cell_type": "markdown",
   "metadata": {},
   "source": [
    "### Combination"
   ]
  },
  {
   "cell_type": "code",
   "execution_count": null,
   "metadata": {},
   "outputs": [],
   "source": [
    "# iso, bub, psc, dif\n",
    "prior_poiss = [[0.9, 0.18, 0.5, 8., 4.], [1., 0.22, 0.55, 8.1, 4.1]]\n",
    "\n",
    "# gce, dsk\n",
    "prior_ps = [[0., 10.0, 1.1, -10.0, 10.0, 1.1, 0.001, 10.0, 1.1, -10.0, 24.0, 0.1], [2.5, 20.0, 1.99, -9.99, 25.0, 4.99, 0.001, 20.0, 1.99, -9.99, 25.0, 4.99]]\n",
    "\n",
    "prior = utils.BoxUniform(low=torch.tensor([0.0] + prior_poiss[0] + prior_ps[0]), high=torch.tensor([2.5] + prior_poiss[1] + prior_ps[1]))\n",
    "\n",
    "thetas = prior.sample((n_samples,))\n",
    "\n",
    "temps_poiss_sim = [temp_gce, temp_iso, temp_bub, temp_psc, temp_mO_pibrem, temp_mO_ics]\n",
    "temps_ps_sim = [temp_gce, temp_dsk]\n",
    "\n",
    "maps = [simulator(theta.detach().numpy(), temps_poiss_sim, temps_ps_sim, masks_list[0], roi_mask_norm, roi_mask, pc_inst.psf_r_func) for theta in tqdm_notebook(thetas)]\n",
    "\n",
    "data_map = torch.Tensor(list(map(itemgetter(0), maps)))\n",
    "aux = torch.Tensor(list(map(itemgetter(1), maps)))"
   ]
  },
  {
   "cell_type": "code",
   "execution_count": 56,
   "metadata": {},
   "outputs": [],
   "source": [
    "save_files(data_map, aux, thetas, \"ModelO_combination\")"
   ]
  },
  {
   "cell_type": "markdown",
   "metadata": {},
   "source": [
    "## Model A"
   ]
  },
  {
   "cell_type": "markdown",
   "metadata": {},
   "source": [
    "### PS only"
   ]
  },
  {
   "cell_type": "code",
   "execution_count": 88,
   "metadata": {},
   "outputs": [
    {
     "name": "stderr",
     "output_type": "stream",
     "text": [
      "/Users/smsharma/anaconda3/envs/sbi-fermi/lib/python3.6/site-packages/ipykernel_launcher.py:14: TqdmDeprecationWarning: This function will be removed in tqdm==5.0.0\n",
      "Please use `tqdm.notebook.tqdm` instead of `tqdm.tqdm_notebook`\n",
      "  \n"
     ]
    },
    {
     "data": {
      "application/vnd.jupyter.widget-view+json": {
       "model_id": "52d80568471b4aa78c4c0352d682114c",
       "version_major": 2,
       "version_minor": 0
      },
      "text/plain": [
       "  0%|          | 0/5 [00:00<?, ?it/s]"
      ]
     },
     "metadata": {},
     "output_type": "display_data"
    }
   ],
   "source": [
    "# iso, bub, psc, dif\n",
    "prior_poiss = [[0.9, 0.18, 0.5, 1.4, 0.6], [1., 0.22, 0.55, 1.4, 0.6]]\n",
    "\n",
    "# gce, dsk\n",
    "prior_ps = [[1.5, 10.0, 1.1, -10.0, 10.0, 0.1, 0.47957617, 15.288367  ,  1.6130469 , -4.5172763 , 23.960373  ,  2.4449606], [1.5, 20.0, 1.99, -9.99, 25.0, 4.99, 0.47957617, 15.288367  ,  1.6130469 , -4.5172763 , 23.960373  ,  2.4449606]]\n",
    "\n",
    "prior = utils.BoxUniform(low=torch.tensor([0.] + prior_poiss[0] + prior_ps[0]), high=torch.tensor([0.] + prior_poiss[1] + prior_ps[1]))\n",
    "\n",
    "thetas = prior.sample((n_samples,))\n",
    "\n",
    "temps_poiss_sim = [temp_gce, temp_iso, temp_bub, temp_psc, temp_mA_pibrem, temp_mA_ics]\n",
    "temps_ps_sim = [temp_gce, temp_dsk]\n",
    "\n",
    "maps = [simulator(theta.detach().numpy(), temps_poiss_sim, temps_ps_sim, masks_list[0], roi_mask_norm, roi_mask, pc_inst.psf_r_func, fermi_exp) for theta in tqdm_notebook(thetas)]\n",
    "\n",
    "data_map = torch.Tensor(list(map(itemgetter(0), maps)))\n",
    "aux = torch.Tensor(list(map(itemgetter(1), maps)))"
   ]
  },
  {
   "cell_type": "code",
   "execution_count": 89,
   "metadata": {},
   "outputs": [],
   "source": [
    "save_files(data_map, aux, thetas, \"ModelA_PS_only\")"
   ]
  },
  {
   "cell_type": "markdown",
   "metadata": {},
   "source": [
    "### DM only"
   ]
  },
  {
   "cell_type": "code",
   "execution_count": 84,
   "metadata": {},
   "outputs": [
    {
     "name": "stderr",
     "output_type": "stream",
     "text": [
      "/Users/smsharma/anaconda3/envs/sbi-fermi/lib/python3.6/site-packages/ipykernel_launcher.py:14: TqdmDeprecationWarning: This function will be removed in tqdm==5.0.0\n",
      "Please use `tqdm.notebook.tqdm` instead of `tqdm.tqdm_notebook`\n",
      "  \n"
     ]
    },
    {
     "data": {
      "application/vnd.jupyter.widget-view+json": {
       "model_id": "16c666ca3f7e4fc6a726b52dfb928340",
       "version_major": 2,
       "version_minor": 0
      },
      "text/plain": [
       "  0%|          | 0/5 [00:00<?, ?it/s]"
      ]
     },
     "metadata": {},
     "output_type": "display_data"
    }
   ],
   "source": [
    "# iso, bub, psc, dif\n",
    "prior_poiss = [[0.9, 0.18, 0.5, 1.4, 0.6], [1., 0.22, 0.55, 1.4, 0.6]]\n",
    "\n",
    "# gce, dsk\n",
    "prior_ps = [[0., 10.0, 1.1, -10.0, 10.0, 0.1, 0.47957617, 15.288367  ,  1.6130469 , -4.5172763 , 23.960373  ,  2.4449606], [1e-5, 20.0, 1.99, -9.99, 25.0, 4.99, 0.47957617, 15.288367  ,  1.6130469 , -4.5172763 , 23.960373  ,  2.4449606]]\n",
    "\n",
    "prior = utils.BoxUniform(low=torch.tensor([1.5] + prior_poiss[0] + prior_ps[0]), high=torch.tensor([1.5] + prior_poiss[1] + prior_ps[1]))\n",
    "\n",
    "thetas = prior.sample((n_samples,))\n",
    "\n",
    "temps_poiss_sim = [temp_gce, temp_iso, temp_bub, temp_psc, temp_mA_pibrem, temp_mA_ics]\n",
    "temps_ps_sim = [temp_gce, temp_dsk]\n",
    "\n",
    "maps = [simulator(theta.detach().numpy(), temps_poiss_sim, temps_ps_sim, masks_list[0], roi_mask_norm, roi_mask, pc_inst.psf_r_func, fermi_exp) for theta in tqdm_notebook(thetas)]\n",
    "\n",
    "data_map = torch.Tensor(list(map(itemgetter(0), maps)))\n",
    "aux = torch.Tensor(list(map(itemgetter(1), maps)))"
   ]
  },
  {
   "cell_type": "code",
   "execution_count": 85,
   "metadata": {},
   "outputs": [],
   "source": [
    "save_files(data_map, aux, thetas, \"ModelA_DM_only\")"
   ]
  },
  {
   "cell_type": "markdown",
   "metadata": {},
   "source": [
    "## Mismodeling"
   ]
  },
  {
   "cell_type": "code",
   "execution_count": 74,
   "metadata": {},
   "outputs": [
    {
     "name": "stderr",
     "output_type": "stream",
     "text": [
      "/Users/smsharma/anaconda3/envs/sbi-fermi/lib/python3.6/site-packages/healpy/projaxes.py:920: MatplotlibDeprecationWarning: You are modifying the state of a globally registered colormap. In future versions, you will not be able to modify a registered colormap in-place. To remove this warning, you can make a copy of the colormap first. cmap = copy.copy(mpl.cm.get_cmap(\"viridis\"))\n",
      "  newcm.set_over(newcm(1.0))\n",
      "/Users/smsharma/anaconda3/envs/sbi-fermi/lib/python3.6/site-packages/healpy/projaxes.py:921: MatplotlibDeprecationWarning: You are modifying the state of a globally registered colormap. In future versions, you will not be able to modify a registered colormap in-place. To remove this warning, you can make a copy of the colormap first. cmap = copy.copy(mpl.cm.get_cmap(\"viridis\"))\n",
      "  newcm.set_under(bgcolor)\n",
      "/Users/smsharma/anaconda3/envs/sbi-fermi/lib/python3.6/site-packages/healpy/projaxes.py:922: MatplotlibDeprecationWarning: You are modifying the state of a globally registered colormap. In future versions, you will not be able to modify a registered colormap in-place. To remove this warning, you can make a copy of the colormap first. cmap = copy.copy(mpl.cm.get_cmap(\"viridis\"))\n",
      "  newcm.set_bad(badcolor)\n",
      "/Users/smsharma/anaconda3/envs/sbi-fermi/lib/python3.6/site-packages/healpy/projaxes.py:211: MatplotlibDeprecationWarning: Passing parameters norm and vmin/vmax simultaneously is deprecated since 3.3 and will become an error two minor releases later. Please pass vmin/vmax directly to the norm when creating it.\n",
      "  **kwds\n"
     ]
    },
    {
     "data": {
      "image/png": "[encoded data removed]",
      "text/plain": [
       "<Figure size 612x388.8 with 2 Axes>"
      ]
     },
     "metadata": {
      "needs_background": "light"
     },
     "output_type": "display_data"
    }
   ],
   "source": [
    "nside = 128\n",
    "ang = np.asarray(hp.pix2ang(nside,np.arange(12*nside**2),nest=False)).T\n",
    "mismo_func = 1 + 0.15 * (np.sin(20 * (ang - np.pi / 7.5))[:,0] + np.cos(14 * (ang - np.pi / 7.5))[:,1])\n",
    "\n",
    "hp.mollview(~roi_mask * mismo_func)"
   ]
  },
  {
   "cell_type": "code",
   "execution_count": 76,
   "metadata": {},
   "outputs": [],
   "source": [
    "temps_poiss_sim = [temp_gce, temp_iso, temp_bub, temp_psc, mismo_func * temp_mO_pibrem, temp_mO_ics]\n",
    "temps_ps_sim = [temp_gce, temp_dsk]"
   ]
  },
  {
   "cell_type": "code",
   "execution_count": 77,
   "metadata": {},
   "outputs": [
    {
     "name": "stderr",
     "output_type": "stream",
     "text": [
      "/Users/smsharma/anaconda3/envs/sbi-fermi/lib/python3.6/site-packages/ipykernel_launcher.py:11: TqdmDeprecationWarning: This function will be removed in tqdm==5.0.0\n",
      "Please use `tqdm.notebook.tqdm` instead of `tqdm.tqdm_notebook`\n",
      "  # This is added back by InteractiveShellApp.init_path()\n"
     ]
    },
    {
     "data": {
      "application/vnd.jupyter.widget-view+json": {
       "model_id": "9c9d6f7a96e4469abf832e2b8abbe54b",
       "version_major": 2,
       "version_minor": 0
      },
      "text/plain": [
       "  0%|          | 0/5 [00:00<?, ?it/s]"
      ]
     },
     "metadata": {},
     "output_type": "display_data"
    }
   ],
   "source": [
    "# iso, bub, psc, dif\n",
    "prior_poiss = [[0.9, 0.18, 0.5, 8., 4.], [1., 0.22, 0.55, 8.1, 4.1]]\n",
    "\n",
    "# gce, dsk\n",
    "prior_ps = [[1.5, 10.0, 1.1, -10.0, 10.0, 0.1, 0.47957617, 15.288367  ,  1.6130469 , -4.5172763 , 23.960373  ,  2.4449606], [1.5, 20.0, 1.99, -9.99, 25.0, 4.99, 0.47957617, 15.288367  ,  1.6130469 , -4.5172763 , 23.960373  ,  2.4449606]]\n",
    "\n",
    "prior = utils.BoxUniform(low=torch.tensor([0.0] + prior_poiss[0] + prior_ps[0]), high=torch.tensor([0.000] + prior_poiss[1] + prior_ps[1]))\n",
    "\n",
    "thetas = prior.sample((n_samples,))\n",
    "\n",
    "maps = [simulator(theta.detach().numpy(), temps_poiss_sim, temps_ps_sim, masks_list[0], roi_mask_norm, roi_mask, pc_inst.psf_r_func, fermi_exp) for theta in tqdm_notebook(thetas)]\n",
    "\n",
    "data_map = torch.Tensor(list(map(itemgetter(0), maps)))\n",
    "aux = torch.Tensor(list(map(itemgetter(1), maps)))"
   ]
  },
  {
   "cell_type": "code",
   "execution_count": 78,
   "metadata": {},
   "outputs": [],
   "source": [
    "save_files(data_map, aux, thetas, \"ModelO_PS_only_mismo\")"
   ]
  },
  {
   "cell_type": "code",
   "execution_count": 79,
   "metadata": {},
   "outputs": [
    {
     "name": "stderr",
     "output_type": "stream",
     "text": [
      "/Users/smsharma/anaconda3/envs/sbi-fermi/lib/python3.6/site-packages/ipykernel_launcher.py:11: TqdmDeprecationWarning: This function will be removed in tqdm==5.0.0\n",
      "Please use `tqdm.notebook.tqdm` instead of `tqdm.tqdm_notebook`\n",
      "  # This is added back by InteractiveShellApp.init_path()\n"
     ]
    },
    {
     "data": {
      "application/vnd.jupyter.widget-view+json": {
       "model_id": "d910547d52054175aada10e513224767",
       "version_major": 2,
       "version_minor": 0
      },
      "text/plain": [
       "  0%|          | 0/5 [00:00<?, ?it/s]"
      ]
     },
     "metadata": {},
     "output_type": "display_data"
    }
   ],
   "source": [
    "# iso, bub, psc, dif\n",
    "prior_poiss = [[0.9, 0.18, 0.5, 8., 4.], [1., 0.22, 0.55, 8.1, 4.1]]\n",
    "\n",
    "# gce, dsk\n",
    "prior_ps = [[0., 10.0, 1.1, -10.0, 10.0, 0.1, 0.47957617, 15.288367  ,  1.6130469 , -4.5172763 , 23.960373  ,  2.4449606], [1e-5, 20.0, 1.99, -9.99, 25.0, 4.99, 0.47957617, 15.288367  ,  1.6130469 , -4.5172763 , 23.960373  ,  2.4449606]]\n",
    "\n",
    "prior = utils.BoxUniform(low=torch.tensor([1.5] + prior_poiss[0] + prior_ps[0]), high=torch.tensor([1.5] + prior_poiss[1] + prior_ps[1]))\n",
    "\n",
    "thetas = prior.sample((n_samples,))\n",
    "\n",
    "maps = [simulator(theta.detach().numpy(), temps_poiss_sim, temps_ps_sim, masks_list[0], roi_mask_norm, roi_mask, pc_inst.psf_r_func, fermi_exp) for theta in tqdm_notebook(thetas)]\n",
    "\n",
    "data_map = torch.Tensor(list(map(itemgetter(0), maps)))\n",
    "aux = torch.Tensor(list(map(itemgetter(1), maps)))"
   ]
  },
  {
   "cell_type": "code",
   "execution_count": 80,
   "metadata": {},
   "outputs": [],
   "source": [
    "save_files(data_map, aux, thetas, \"ModelO_DM_only_mismo\")"
   ]
  },
  {
   "cell_type": "code",
   "execution_count": null,
   "metadata": {},
   "outputs": [],
   "source": []
  }
 ],
 "metadata": {
  "kernelspec": {
   "display_name": "Python 3",
   "language": "python",
   "name": "python3"
  },
  "language_info": {
   "codemirror_mode": {
    "name": "ipython",
    "version": 3
   },
   "file_extension": ".py",
   "mimetype": "text/x-python",
   "name": "python",
   "nbconvert_exporter": "python",
   "pygments_lexer": "ipython3",
   "version": "3.6.13"
  }
 },
 "nbformat": 4,
 "nbformat_minor": 4
}
