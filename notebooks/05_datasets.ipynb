{
 "cells": [
  {
   "cell_type": "code",
   "execution_count": 29,
   "metadata": {},
   "outputs": [
    {
     "name": "stdout",
     "output_type": "stream",
     "text": [
      "The autoreload extension is already loaded. To reload it, use:\n",
      "  %reload_ext autoreload\n"
     ]
    }
   ],
   "source": [
    "import numpy as np\n",
    "import healpy as hp\n",
    "import matplotlib.pyplot as plt\n",
    "from tqdm import *\n",
    "\n",
    "%matplotlib inline\n",
    "%load_ext autoreload\n",
    "%autoreload 2"
   ]
  },
  {
   "cell_type": "code",
   "execution_count": 30,
   "metadata": {},
   "outputs": [],
   "source": [
    "import sys\n",
    "sys.path.append(\"../\")"
   ]
  },
  {
   "cell_type": "code",
   "execution_count": 31,
   "metadata": {},
   "outputs": [],
   "source": [
    "import torch\n",
    "from torch import nn\n",
    "\n",
    "from models.embedding import SphericalGraphCNN"
   ]
  },
  {
   "cell_type": "code",
   "execution_count": 32,
   "metadata": {},
   "outputs": [],
   "source": [
    "from utils import create_mask as cm\n",
    "from simulations.wrapper import simulator\n",
    "from models.scd import dnds\n",
    "from utils.psf_correction import PSFCorrection\n",
    "from models.psf import KingPSF\n",
    "from utils.templates import get_NFW2_template"
   ]
  },
  {
   "cell_type": "markdown",
   "metadata": {},
   "source": [
    "## Test embedding net"
   ]
  },
  {
   "cell_type": "code",
   "execution_count": 33,
   "metadata": {},
   "outputs": [],
   "source": [
    "nside_list = [128, 64, 32, 16, 8, 4, 2]"
   ]
  },
  {
   "cell_type": "code",
   "execution_count": 34,
   "metadata": {},
   "outputs": [],
   "source": [
    "hp_mask_nside1 = cm.make_mask_total(nside=1, band_mask = True, band_mask_range = 0,\n",
    "                              mask_ring = True, inner = 0, outer = 25)\n",
    "\n",
    "indexes_list = []\n",
    "masks_list = []\n",
    "for nside in nside_list:\n",
    "    hp_mask = hp.ud_grade(hp_mask_nside1, nside)\n",
    "    masks_list.append(hp_mask)\n",
    "    indexes_list.append(np.arange(hp.nside2npix(nside))[~hp_mask])"
   ]
  },
  {
   "cell_type": "code",
   "execution_count": 35,
   "metadata": {},
   "outputs": [
    {
     "data": {
      "text/plain": [
       "array([ True,  True,  True, ...,  True,  True,  True])"
      ]
     },
     "execution_count": 35,
     "metadata": {},
     "output_type": "execute_result"
    }
   ],
   "source": [
    "ps_mask = np.load(\"../data/mask_3fgl_0p8deg.npy\")\n",
    "hp_mask = cm.make_mask_total(nside=128, band_mask = True, band_mask_range = 2,\n",
    "                              mask_ring = True, inner = 0, outer = 25, custom_mask=ps_mask)\n",
    "hp_mask"
   ]
  },
  {
   "cell_type": "code",
   "execution_count": 21,
   "metadata": {},
   "outputs": [],
   "source": [
    "kp = KingPSF()\n",
    "\n",
    "pc_inst = PSFCorrection(delay_compute=True)\n",
    "pc_inst.psf_r_func = lambda r: kp.psf_fermi_r(r)"
   ]
  },
  {
   "cell_type": "code",
   "execution_count": 36,
   "metadata": {},
   "outputs": [],
   "source": [
    "# Load templates\n",
    "temp_gce = get_NFW2_template(gamma=1.2)\n",
    "temp_dif = np.load(\"../data/fermi_data/template_dif.npy\")\n",
    "temp_psc = np.load(\"../data/fermi_data/template_psc.npy\")\n",
    "temp_iso = np.load(\"../data/fermi_data/template_iso.npy\")\n",
    "temp_dsk = np.load(\"../data/fermi_data/template_dsk.npy\")\n",
    "temp_bub = np.load(\"../data/fermi_data/template_bub.npy\")\n",
    "\n",
    "temp_mO_pibrem = np.load('../data/fermi_data/ModelO_r25_q1_pibrem.npy')\n",
    "temp_mO_ics = np.load('../data/fermi_data/ModelO_r25_q1_ics.npy')\n",
    "\n",
    "temp_mA_pibrem = hp.ud_grade(np.load('../data/modelA/modelA_brempi0.npy'), nside_out=128, power=-2)\n",
    "temp_mA_ics = hp.ud_grade(np.load('../data/modelA/modelA_ics.npy'), nside_out=128, power=-2)\n",
    "\n",
    "fermi_exp = np.load(\"../data/fermi_data/fermidata_exposure.npy\")\n",
    "\n",
    "ps_mask = np.load(\"../data/mask_3fgl_0p8deg.npy\")\n",
    "roi_mask = cm.make_mask_total(nside=128, band_mask = True, band_mask_range=2, mask_ring=True, inner=0, outer=25, custom_mask=ps_mask)\n",
    "roi_mask_norm = cm.make_mask_total(nside=128, band_mask = True, band_mask_range=2, mask_ring=True, inner=0, outer=25)"
   ]
  },
  {
   "cell_type": "code",
   "execution_count": 41,
   "metadata": {},
   "outputs": [],
   "source": [
    "n_samples = 10"
   ]
  },
  {
   "cell_type": "code",
   "execution_count": 42,
   "metadata": {},
   "outputs": [],
   "source": [
    "def save_files(data_map, aux, sample_name):\n",
    "    np.save(\"../data/samples/x_{}.npy\".format(sample_name), data_map)\n",
    "    np.save(\"../data/samples/x_aux_{}.npy\".format(sample_name), aux)"
   ]
  },
  {
   "cell_type": "markdown",
   "metadata": {},
   "source": [
    "## Model O"
   ]
  },
  {
   "cell_type": "markdown",
   "metadata": {},
   "source": [
    "### PS only"
   ]
  },
  {
   "cell_type": "code",
   "execution_count": 43,
   "metadata": {},
   "outputs": [
    {
     "name": "stderr",
     "output_type": "stream",
     "text": [
      "/Users/smsharma/anaconda3/lib/python3.7/site-packages/ipykernel_launcher.py:14: TqdmDeprecationWarning: This function will be removed in tqdm==5.0.0\n",
      "Please use `tqdm.notebook.tqdm` instead of `tqdm.tqdm_notebook`\n",
      "  \n"
     ]
    },
    {
     "data": {
      "application/vnd.jupyter.widget-view+json": {
       "model_id": "455ae4732a504c5fac6b582e5dd6f9c8",
       "version_major": 2,
       "version_minor": 0
      },
      "text/plain": [
       "  0%|          | 0/10 [00:00<?, ?it/s]"
      ]
     },
     "metadata": {},
     "output_type": "display_data"
    }
   ],
   "source": [
    "# iso, bub, psc, dif\n",
    "prior_poiss = [[0.9, 0.18, 0.5, 8., 4.], [1., 0.22, 0.55, 8.1, 4.1]]\n",
    "\n",
    "# gce, dsk\n",
    "prior_ps = [[1., 10.0, 1.1, -10.0, 10.0, 0.1, 0.9, 10.0, 1.1, -10.0, 24.0, 0.1], [1., 20.0, 1.99, -9.99, 25.0, 4.99, 1.0, 20.0, 1.99, -9.99, 25.0, 4.99]]\n",
    "\n",
    "prior = utils.BoxUniform(low=torch.tensor([0.0] + prior_poiss[0] + prior_ps[0]), high=torch.tensor([0.000] + prior_poiss[1] + prior_ps[1]))\n",
    "\n",
    "thetas = prior.sample((n_samples,))\n",
    "\n",
    "temps_poiss_sim = [temp_gce, temp_iso, temp_bub, temp_psc, temp_mO_pibrem, temp_mO_ics]\n",
    "temps_ps_sim = [temp_gce, temp_dsk]\n",
    "\n",
    "maps = [simulator(theta.detach().numpy(), temps_poiss_sim, temps_ps_sim, masks_list[0], roi_mask_norm, roi_mask, pc_inst.psf_r_func) for theta in tqdm_notebook(thetas)]\n",
    "\n",
    "data_map = torch.Tensor(list(map(itemgetter(0), maps)))\n",
    "aux = torch.Tensor(list(map(itemgetter(1), maps)))"
   ]
  },
  {
   "cell_type": "code",
   "execution_count": 44,
   "metadata": {},
   "outputs": [],
   "source": [
    "save_files(data_map, aux, \"ModelO_PS_only\")"
   ]
  },
  {
   "cell_type": "markdown",
   "metadata": {},
   "source": [
    "### DM only"
   ]
  },
  {
   "cell_type": "code",
   "execution_count": 46,
   "metadata": {},
   "outputs": [
    {
     "name": "stderr",
     "output_type": "stream",
     "text": [
      "/Users/smsharma/anaconda3/lib/python3.7/site-packages/ipykernel_launcher.py:14: TqdmDeprecationWarning: This function will be removed in tqdm==5.0.0\n",
      "Please use `tqdm.notebook.tqdm` instead of `tqdm.tqdm_notebook`\n",
      "  \n"
     ]
    },
    {
     "data": {
      "application/vnd.jupyter.widget-view+json": {
       "model_id": "4a4366fce5874cd5b6a704770311a539",
       "version_major": 2,
       "version_minor": 0
      },
      "text/plain": [
       "  0%|          | 0/10 [00:00<?, ?it/s]"
      ]
     },
     "metadata": {},
     "output_type": "display_data"
    }
   ],
   "source": [
    "# iso, bub, psc, dif\n",
    "prior_poiss = [[0.9, 0.18, 0.5, 8., 4.], [1., 0.22, 0.55, 8.1, 4.1]]\n",
    "\n",
    "# gce, dsk\n",
    "prior_ps = [[0., 10.0, 1.1, -10.0, 10.0, 0.1, 0.9, 10.0, 1.1, -10.0, 24.0, 0.1], [1e-5, 20.0, 1.99, -9.99, 25.0, 4.99, 1.0, 20.0, 1.99, -9.99, 25.0, 4.99]]\n",
    "\n",
    "prior = utils.BoxUniform(low=torch.tensor([1.0] + prior_poiss[0] + prior_ps[0]), high=torch.tensor([1.0] + prior_poiss[1] + prior_ps[1]))\n",
    "\n",
    "thetas = prior.sample((n_samples,))\n",
    "\n",
    "temps_poiss_sim = [temp_gce, temp_iso, temp_bub, temp_psc, temp_mO_pibrem, temp_mO_ics]\n",
    "temps_ps_sim = [temp_gce, temp_dsk]\n",
    "\n",
    "maps = [simulator(theta.detach().numpy(), temps_poiss_sim, temps_ps_sim, masks_list[0], roi_mask_norm, roi_mask, pc_inst.psf_r_func) for theta in tqdm_notebook(thetas)]\n",
    "\n",
    "data_map = torch.Tensor(list(map(itemgetter(0), maps)))\n",
    "aux = torch.Tensor(list(map(itemgetter(1), maps)))"
   ]
  },
  {
   "cell_type": "code",
   "execution_count": 47,
   "metadata": {},
   "outputs": [],
   "source": [
    "save_files(data_map, aux, \"ModelO_DM_only\")"
   ]
  },
  {
   "cell_type": "markdown",
   "metadata": {},
   "source": [
    "## Model A"
   ]
  },
  {
   "cell_type": "markdown",
   "metadata": {},
   "source": [
    "### PS only"
   ]
  },
  {
   "cell_type": "code",
   "execution_count": 48,
   "metadata": {},
   "outputs": [
    {
     "name": "stderr",
     "output_type": "stream",
     "text": [
      "/Users/smsharma/anaconda3/lib/python3.7/site-packages/ipykernel_launcher.py:14: TqdmDeprecationWarning: This function will be removed in tqdm==5.0.0\n",
      "Please use `tqdm.notebook.tqdm` instead of `tqdm.tqdm_notebook`\n",
      "  \n"
     ]
    },
    {
     "data": {
      "application/vnd.jupyter.widget-view+json": {
       "model_id": "e8c4c263f0414f898ebf3b04ace8540f",
       "version_major": 2,
       "version_minor": 0
      },
      "text/plain": [
       "  0%|          | 0/10 [00:00<?, ?it/s]"
      ]
     },
     "metadata": {},
     "output_type": "display_data"
    }
   ],
   "source": [
    "# iso, bub, psc, dif\n",
    "prior_poiss = [[0.9, 0.18, 0.5, 9. / 8., 0.8], [1., 0.22, 0.55, 9.1 / 8., 0.83]]\n",
    "\n",
    "# gce, dsk\n",
    "prior_ps = [[1.0, 10.0, 1.1, -10.0, 20.0, 2., 0.001, 10.0, 1.1, -10.0, 24.0, 0.1], [1., 20.0, 1.99, -9.99, 25.0, 4.99, 1.0, 20.0, 1.99, -9.99, 25.0, 4.99]]\n",
    "\n",
    "prior = utils.BoxUniform(low=torch.tensor([0.0] + prior_poiss[0] + prior_ps[0]), high=torch.tensor([0.0] + prior_poiss[1] + prior_ps[1]))\n",
    "\n",
    "thetas = prior.sample((n_samples,))\n",
    "\n",
    "temps_poiss_sim = [temp_gce, temp_iso, temp_bub, temp_psc, temp_mA_pibrem, temp_mA_ics]\n",
    "temps_ps_sim = [temp_gce, temp_dsk]\n",
    "\n",
    "maps = [simulator(theta.detach().numpy(), temps_poiss_sim, temps_ps_sim, masks_list[0], roi_mask_norm, roi_mask, pc_inst.psf_r_func) for theta in tqdm_notebook(thetas)]\n",
    "\n",
    "data_map = torch.Tensor(list(map(itemgetter(0), maps)))\n",
    "aux = torch.Tensor(list(map(itemgetter(1), maps)))"
   ]
  },
  {
   "cell_type": "code",
   "execution_count": 49,
   "metadata": {},
   "outputs": [],
   "source": [
    "save_files(data_map, aux, \"ModelA_PS_only\")"
   ]
  },
  {
   "cell_type": "markdown",
   "metadata": {},
   "source": [
    "### DM only"
   ]
  },
  {
   "cell_type": "code",
   "execution_count": 50,
   "metadata": {},
   "outputs": [
    {
     "name": "stderr",
     "output_type": "stream",
     "text": [
      "/Users/smsharma/anaconda3/lib/python3.7/site-packages/ipykernel_launcher.py:14: TqdmDeprecationWarning: This function will be removed in tqdm==5.0.0\n",
      "Please use `tqdm.notebook.tqdm` instead of `tqdm.tqdm_notebook`\n",
      "  \n"
     ]
    },
    {
     "data": {
      "application/vnd.jupyter.widget-view+json": {
       "model_id": "7501673c71214498a2939f9b6ecf083c",
       "version_major": 2,
       "version_minor": 0
      },
      "text/plain": [
       "  0%|          | 0/10 [00:00<?, ?it/s]"
      ]
     },
     "metadata": {},
     "output_type": "display_data"
    }
   ],
   "source": [
    "# iso, bub, psc, dif\n",
    "prior_poiss = [[0.9, 0.18, 0.5, 9. / 8., 0.8], [1., 0.22, 0.55, 9.1 / 8., 0.83]]\n",
    "\n",
    "# gce, dsk\n",
    "prior_ps = [[0.0, 10.0, 1.1, -10.0, 20.0, 2., 0.001, 10.0, 1.1, -10.0, 24.0, 0.1], [1e-5, 20.0, 1.99, -9.99, 25.0, 4.99, 1.0, 20.0, 1.99, -9.99, 25.0, 4.99]]\n",
    "\n",
    "prior = utils.BoxUniform(low=torch.tensor([1.0] + prior_poiss[0] + prior_ps[0]), high=torch.tensor([1.0] + prior_poiss[1] + prior_ps[1]))\n",
    "\n",
    "thetas = prior.sample((n_samples,))\n",
    "\n",
    "temps_poiss_sim = [temp_gce, temp_iso, temp_bub, temp_psc, temp_mA_pibrem, temp_mA_ics]\n",
    "temps_ps_sim = [temp_gce, temp_dsk]\n",
    "\n",
    "maps = [simulator(theta.detach().numpy(), temps_poiss_sim, temps_ps_sim, masks_list[0], roi_mask_norm, roi_mask, pc_inst.psf_r_func) for theta in tqdm_notebook(thetas)]\n",
    "\n",
    "data_map = torch.Tensor(list(map(itemgetter(0), maps)))\n",
    "aux = torch.Tensor(list(map(itemgetter(1), maps)))"
   ]
  },
  {
   "cell_type": "code",
   "execution_count": 51,
   "metadata": {},
   "outputs": [],
   "source": [
    "save_files(data_map, aux, \"ModelA_DM_only\")"
   ]
  },
  {
   "cell_type": "code",
   "execution_count": null,
   "metadata": {},
   "outputs": [],
   "source": []
  }
 ],
 "metadata": {
  "kernelspec": {
   "display_name": "Python [conda env:root] *",
   "language": "python",
   "name": "conda-root-py"
  },
  "language_info": {
   "codemirror_mode": {
    "name": "ipython",
    "version": 3
   },
   "file_extension": ".py",
   "mimetype": "text/x-python",
   "name": "python",
   "nbconvert_exporter": "python",
   "pygments_lexer": "ipython3",
   "version": "3.7.3"
  }
 },
 "nbformat": 4,
 "nbformat_minor": 4
}
