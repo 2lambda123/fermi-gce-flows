{
 "cells": [
  {
   "cell_type": "code",
   "execution_count": 1,
   "metadata": {},
   "outputs": [],
   "source": [
    "import sys\n",
    "sys.path.append(\"../\")"
   ]
  },
  {
   "cell_type": "code",
   "execution_count": 2,
   "metadata": {},
   "outputs": [],
   "source": [
    "import numpy as np\n",
    "import healpy as hp\n",
    "import matplotlib.pyplot as plt\n",
    "import torch\n",
    "from tqdm import *\n",
    "\n",
    "%matplotlib inline\n",
    "%load_ext autoreload\n",
    "%autoreload 2"
   ]
  },
  {
   "cell_type": "code",
   "execution_count": 3,
   "metadata": {},
   "outputs": [],
   "source": [
    "from models.likelihoods import log_like_np\n",
    "from models.nptf_model import NPRegression\n",
    "from utils.templates import get_NFW2_template\n",
    "from utils.psf_correction import PSFCorrection\n",
    "from utils import create_mask as cm\n",
    "from models.psf import KingPSF"
   ]
  },
  {
   "cell_type": "code",
   "execution_count": 189,
   "metadata": {},
   "outputs": [],
   "source": [
    "from NPTFit import npll\n",
    "from NPTFit import pll"
   ]
  },
  {
   "cell_type": "code",
   "execution_count": 5,
   "metadata": {},
   "outputs": [],
   "source": [
    "nside = 128\n",
    "\n",
    "# Get mask of central pixel for nside=1\n",
    "hp_mask_nside1 = cm.make_mask_total(nside=1, band_mask=True, band_mask_range=0, mask_ring=True, inner=0, outer=25)\n",
    "\n",
    "# Get mask corresponding to nside=128\n",
    "mask_sim = hp.ud_grade(hp_mask_nside1, nside)\n",
    "\n",
    "npix = hp.nside2npix(nside)\n",
    "pixarea = hp.nside2pixarea(nside, degrees=False)\n",
    "pixarea_deg = hp.nside2pixarea(nside, degrees=True)"
   ]
  },
  {
   "cell_type": "code",
   "execution_count": 387,
   "metadata": {},
   "outputs": [],
   "source": [
    "# Load templates\n",
    "temp_gce = np.load(\"../data/fermi_data/template_gce.npy\") # get_NFW2_template(gamma=1.2)\n",
    "temp_dif = np.load(\"../data/fermi_data/template_dif.npy\")\n",
    "temp_psc = np.load(\"../data/fermi_data/template_psc.npy\")\n",
    "temp_iso = np.load(\"../data/fermi_data/template_iso.npy\")\n",
    "temp_dsk = np.load(\"../data/fermi_data/template_dsk.npy\")\n",
    "temp_bub = np.load(\"../data/fermi_data/template_bub.npy\")\n",
    "\n",
    "temp_mO_pibrem = np.load('../data/fermi_data/ModelO_r25_q1_pibrem.npy')\n",
    "temp_mO_ics = np.load('../data/fermi_data/ModelO_r25_q1_ics.npy')\n",
    "\n",
    "temp_mA_pibrem = hp.ud_grade(np.load('../data/modelA/modelA_brempi0.npy'), nside_out=128, power=-2)\n",
    "temp_mA_ics = hp.ud_grade(np.load('../data/modelA/modelA_ics.npy'), nside_out=128, power=-2)\n",
    "\n",
    "fermi_exp = np.load(\"../data/fermi_data/fermidata_exposure.npy\")\n",
    "fermi_data = np.load(\"../data/fermi_data/fermidata_counts.npy\")\n",
    "\n",
    "ps_mask = np.load(\"../data/mask_3fgl_0p8deg.npy\")\n",
    "ps_mask = np.load(\"../data/fermi_data/fermidata_pscmask.npy\") == 1\n",
    "roi_mask = cm.make_mask_total(nside=128, band_mask = True, band_mask_range=2, mask_ring=True, inner=0, outer=25, custom_mask=ps_mask)"
   ]
  },
  {
   "cell_type": "code",
   "execution_count": 388,
   "metadata": {},
   "outputs": [
    {
     "data": {
      "text/plain": [
       "7697"
      ]
     },
     "execution_count": 388,
     "metadata": {},
     "output_type": "execute_result"
    }
   ],
   "source": [
    "len(fermi_data[~roi_mask])"
   ]
  },
  {
   "cell_type": "code",
   "execution_count": 362,
   "metadata": {},
   "outputs": [
    {
     "name": "stdout",
     "output_type": "stream",
     "text": [
      "Loading the psf correction from: /Users/smsharma/PycharmProjects/sbi-fermi/notebooks/psf_dir/Fermi_PSF_2GeV.npy\n"
     ]
    }
   ],
   "source": [
    "# Define parameters that specify the Fermi-LAT PSF at 2 GeV\n",
    "fcore = 0.748988248179\n",
    "score = 0.428653790656\n",
    "gcore = 7.82363229341\n",
    "stail = 0.715962650769\n",
    "gtail = 3.61883748683\n",
    "spe = 0.00456544262478\n",
    "\n",
    "# Define the full PSF in terms of two King functions\n",
    "def king_fn(x, sigma, gamma):\n",
    "    return 1./(2.*np.pi*sigma**2.)*(1.-1./gamma)*(1.+(x**2./(2.*gamma*sigma**2.)))**(-gamma)\n",
    "\n",
    "def Fermi_PSF(r):\n",
    "    return fcore*king_fn(r/spe,score,gcore) + (1-fcore)*king_fn(r/spe,stail,gtail)\n",
    "\n",
    "# Modify the relevant parameters in pc_inst and then make or load the PSF\n",
    "pc_inst = PSFCorrection(delay_compute=True)\n",
    "pc_inst.psf_r_func = lambda r: Fermi_PSF(r)\n",
    "pc_inst.sample_psf_max = 10.*spe*(score+stail)/2.\n",
    "pc_inst.psf_samples = 10000\n",
    "pc_inst.psf_tag = 'Fermi_PSF_2GeV'\n",
    "pc_inst.make_or_load_psf_corr()\n",
    "\n",
    "# Extract f_ary and df_rho_div_f_ary as usual\n",
    "f_ary = pc_inst.f_ary\n",
    "df_rho_div_f_ary = pc_inst.df_rho_div_f_ary"
   ]
  },
  {
   "cell_type": "code",
   "execution_count": 365,
   "metadata": {},
   "outputs": [],
   "source": [
    "import dynesty\n",
    "from multiprocessing import Pool\n",
    "from dynesty import DynamicNestedSampler, NestedSampler\n",
    "from dynesty.utils import resample_equal\n",
    "\n",
    "from models.scd import dnds\n",
    "\n",
    "\n",
    "class NPRegression:\n",
    "    def __init__(self, temps_poiss, temps_ps, priors_poiss, data, priors_ps=None, f_ary=[1.], df_rho_div_f_ary=[1.], roi_mask=None, param_log=None, transform_prior_on_s=True):\n",
    "        \n",
    "        self.transform_prior_on_s = transform_prior_on_s\n",
    "        \n",
    "        self.temps_poiss= temps_poiss\n",
    "        self.temps_ps = temps_ps\n",
    "        self.priors_poiss = priors_poiss\n",
    "        self.priors_ps = priors_ps\n",
    "        self.data = data.astype(np.int32)\n",
    "        self.roi_mask = roi_mask\n",
    "        \n",
    "        if self.priors_ps is not None:\n",
    "            self.priors = np.concatenate([np.transpose(self.priors_poiss), np.transpose(self.priors_ps)])\n",
    "        else:\n",
    "            self.priors = np.transpose(self.priors_poiss)\n",
    "            \n",
    "        self.priors_lo = self.priors[:, 0]\n",
    "        self.priors_interval = self.priors[:, 1] - self.priors[:, 0]\n",
    " \n",
    "        self.f_ary = f_ary\n",
    "        self.df_rho_div_f_ary = df_rho_div_f_ary\n",
    "        \n",
    "        self.n_poiss = len(temps_poiss)\n",
    "        self.n_ps = len(temps_ps)\n",
    "        self.n_ps_params = 6\n",
    "        self.n_params = self.n_poiss + self.n_ps_params * self.n_ps\n",
    "        \n",
    "        self.param_log = param_log\n",
    "\n",
    "        if self.roi_mask is not None:\n",
    "            self.temps_poiss = np.array([temp[~self.roi_mask] for temp in self.temps_poiss])\n",
    "            self.temps_ps = np.array([temp[~self.roi_mask] for temp in self.temps_ps])\n",
    "            self.data = np.array(self.data[~self.roi_mask])\n",
    "                \n",
    "    def loglike(self, theta):\n",
    "        \n",
    "        theta[self.param_log] = 10 ** theta[self.param_log]\n",
    "        theta_poiss = theta[:self.n_poiss]\n",
    "\n",
    "        theta_ps = np.array(np.split(theta[self.n_poiss:], self.n_ps))\n",
    "            \n",
    "        if self.transform_prior_on_s:\n",
    "\n",
    "            theta_poiss[0] /= np.mean(self.temps_poiss[0])\n",
    "\n",
    "            for i_ps in torch.arange(self.n_ps):\n",
    "\n",
    "                s_ary = torch.logspace(-2, 2, 100)\n",
    "                s_exp_temp = theta_ps[i_ps][0]\n",
    "                theta_ps[i_ps][0] = 1.\n",
    "                dnds_ary_temp = dnds(s_ary, theta_ps[i_ps])\n",
    "                s_exp = np.mean(self.temps_ps[i_ps]) * np.trapz(s_ary * dnds_ary_temp, s_ary)\n",
    "\n",
    "                theta_ps[i_ps][0] = s_exp_temp / s_exp\n",
    "        \n",
    "        pt_sum_compressed = np.sum(self.temps_poiss * theta_poiss[:, np.newaxis], axis=0)\n",
    "        \n",
    "        return npll.log_like(pt_sum_compressed, theta_ps, self.f_ary, self.df_rho_div_f_ary, self.temps_ps, self.data)\n",
    "\n",
    "    def prior_cube(self, u, ndim=1, nparams=1):\n",
    "\n",
    "        u *= self.priors_interval \n",
    "        u += self.priors_lo\n",
    "        \n",
    "        return u\n",
    "\n",
    "    def run_dynesty(self, nlive=400, n_cpus=4):\n",
    "\n",
    "        n_dim = self.n_params\n",
    "\n",
    "        with Pool(processes=n_cpus) as pool:\n",
    "\n",
    "            sampler = NestedSampler(self.loglike, self.prior_cube, n_dim, pool=pool, queue_size=n_cpus, nlive=nlive)\n",
    "            sampler.run_nested(dlogz=1.)\n",
    "\n",
    "        # Draw posterior samples\n",
    "        weights = np.exp(sampler.results['logwt'] - sampler.results['logz'][-1])\n",
    "        samples_weighted = resample_equal(sampler.results.samples, weights)\n",
    "\n",
    "        return sampler.results.samples, samples_weighted"
   ]
  },
  {
   "cell_type": "code",
   "execution_count": 246,
   "metadata": {},
   "outputs": [],
   "source": [
    "temps_poiss = [temp_gce, temp_iso, temp_bub, temp_psc, temp_mO_pibrem, temp_mO_ics]\n",
    "priors_poiss = [[0., 0.001, 0.001, 0.001, 6., 1.], \n",
    "               [3.5, 1.5, 1.5, 1.5, 12., 6.]]\n",
    "\n",
    "temps_ps = [temp_gce / (fermi_exp / np.mean(fermi_exp)), temp_dsk / (fermi_exp / np.mean(fermi_exp))]\n",
    "priors_ps = [[0., 10.0, 1.1, -10.0, 5.0, 0.1, 0., 10.0, 1.1, -10.0, 5.0, 0.1], \n",
    "            [3.5, 20.0, 1.99, 1.99, 50.0, 4.99, 3.5, 20.0, 1.99, 1.99, 50.0, 4.99]]\n",
    "\n",
    "param_log = np.array([0, 0, 0, 0, 0, 0, 0, 0, 0, 0, 0, 0, 0 ,0 ,0 ,0 ,0, 0])\n",
    "param_log = param_log.astype(np.bool)"
   ]
  },
  {
   "cell_type": "code",
   "execution_count": 296,
   "metadata": {},
   "outputs": [],
   "source": [
    "temps_poiss = [temp_gce, temp_iso, temp_bub, temp_psc, temp_dif]\n",
    "temps_ps = [temp_gce / (fermi_exp / np.mean(fermi_exp)), temp_dsk / (fermi_exp / np.mean(fermi_exp))]\n",
    "roi_mask = roi_mask\n",
    "\n",
    "# gce, dsk PS priors\n",
    "priors_ps = [[0., 10.0, 1.1, -10.0, 5.0, 0.1, 0., 10.0, 1.1, -10.0, 5.0, 0.1], \n",
    "            [3.5, 20.0, 1.99, 1.99, 50.0, 4.99, 3.5, 20.0, 1.99, 1.99, 50.0, 4.99]]\n",
    "\n",
    "priors_poiss = [[0., 0.001, 0.001, 0.001, 10.], \n",
    "               [3.5, 1.5, 1.5, 1.5, 20.]]\n",
    "\n",
    "param_log = np.array([0, 0, 0, 0, 0, 0, 0, 0, 0, 0, 0, 0, 0 ,0 ,0 ,0 ,0])\n",
    "param_log = param_log.astype(np.bool)"
   ]
  },
  {
   "cell_type": "code",
   "execution_count": 366,
   "metadata": {},
   "outputs": [],
   "source": [
    "temps_poiss = [temp_gce, temp_iso, temp_bub, temp_psc, temp_dif]\n",
    "temps_ps = [temp_gce / (fermi_exp / np.mean(fermi_exp)), temp_dsk / (fermi_exp / np.mean(fermi_exp))]\n",
    "roi_mask = roi_mask\n",
    "\n",
    "# gce, dsk PS priors\n",
    "priors_ps = [[-6, 10.0, 1.1, -10.0, 5.0, 0.1, -6, 10.0, 1.1, -10.0, 5.0, 0.1], \n",
    "            [0, 20.0, 1.99, 1.99, 50.0, 4.99, 0, 20.0, 1.99, 1.99, 50.0, 4.99]]\n",
    "\n",
    "priors_poiss = [[-2., 0.001, 0.001, 0.001, 10.], \n",
    "               [1., 1.5, 1.5, 1.5, 20.]]\n",
    "\n",
    "param_log = np.array([1, 0, 0, 0, 0, 1, 0, 0, 0, 0, 0, 1, 0 ,0 ,0 ,0 ,0])\n",
    "param_log = param_log.astype(np.bool)"
   ]
  },
  {
   "cell_type": "code",
   "execution_count": 367,
   "metadata": {},
   "outputs": [],
   "source": [
    "npr = NPRegression(temps_poiss, temps_ps, priors_poiss, fermi_data, priors_ps, f_ary, df_rho_div_f_ary, roi_mask=roi_mask, param_log=param_log)"
   ]
  },
  {
   "cell_type": "code",
   "execution_count": null,
   "metadata": {},
   "outputs": [],
   "source": [
    "### _, samples_weighted = npr.run_dynesty()"
   ]
  },
  {
   "cell_type": "code",
   "execution_count": 348,
   "metadata": {},
   "outputs": [],
   "source": [
    "import copy\n",
    "\n",
    "samples = copy.deepcopy(samples_weighted)\n",
    "samples[:, 5] = 10 ** samples[:, 5]\n",
    "samples[:, 11] = 10 ** samples[:, 11]\n",
    "samples[:, 0] = 10 ** samples[:, 0]"
   ]
  },
  {
   "cell_type": "code",
   "execution_count": 353,
   "metadata": {},
   "outputs": [],
   "source": [
    "s_ary = np.logspace(-10, 2, 1000)\n",
    "ps_samps = [np.trapz(s_ary * dnds(s_ary, samp), s_ary) * np.mean(npr.temps_ps[0]) for samp in samples[:, 5:11]]\n",
    "ps_dsk_samps = [np.trapz(s_ary * dnds(s_ary, samp), s_ary) * np.mean(npr.temps_ps[1]) for samp in samples[:, 11:]]"
   ]
  },
  {
   "cell_type": "code",
   "execution_count": 354,
   "metadata": {},
   "outputs": [
    {
     "data": {
      "text/plain": [
       "<matplotlib.legend.Legend at 0x7ffaad903630>"
      ]
     },
     "execution_count": 354,
     "metadata": {},
     "output_type": "execute_result"
    },
    {
     "data": {
      "image/png": "[encoded data removed]",
      "text/plain": [
       "<Figure size 443.077x360 with 1 Axes>"
      ]
     },
     "metadata": {
      "needs_background": "light"
     },
     "output_type": "display_data"
    }
   ],
   "source": [
    "bins = np.linspace(0, 10, 100)\n",
    "plt.hist((samples[:, 0] * np.mean(npr.temps_poiss[0]) / np.mean(npr.data) * 100), label=\"DM\", histtype='step', bins=bins)\n",
    "plt.hist((ps_samps / np.mean(npr.data) * 100), label=\"PS\", histtype='step', bins=bins)\n",
    "plt.hist((ps_dsk_samps / np.mean(npr.data) * 100), label=\"dsk\", histtype='step', bins=bins)\n",
    "plt.legend()"
   ]
  },
  {
   "cell_type": "code",
   "execution_count": 370,
   "metadata": {},
   "outputs": [],
   "source": [
    "corner.corner(samples)"
   ]
  },
  {
   "cell_type": "code",
   "execution_count": 304,
   "metadata": {},
   "outputs": [
    {
     "data": {
      "text/plain": [
       "<matplotlib.legend.Legend at 0x7ffac3348320>"
      ]
     },
     "execution_count": 304,
     "metadata": {},
     "output_type": "execute_result"
    },
    {
     "data": {
      "image/png": "[encoded data removed]",
      "text/plain": [
       "<Figure size 443.077x360 with 1 Axes>"
      ]
     },
     "metadata": {
      "needs_background": "light"
     },
     "output_type": "display_data"
    }
   ],
   "source": [
    "plt.hist((samples[:, 0] / np.mean(npr.data) * 100), label=\"DM\", histtype='step')\n",
    "plt.hist((samples[:, 5] / np.mean(npr.data) * 100), label=\"PS\", histtype='step')\n",
    "plt.legend()"
   ]
  },
  {
   "cell_type": "code",
   "execution_count": 305,
   "metadata": {},
   "outputs": [],
   "source": [
    "import matplotlib.pylab as pylab\n",
    "import warnings\n",
    "import matplotlib.cbook\n",
    "\n",
    "from plot_params import params\n",
    "\n",
    "warnings.filterwarnings(\"ignore\",category=matplotlib.cbook.mplDeprecation)\n",
    "\n",
    "pylab.rcParams.update(params)\n",
    "cols_default = plt.rcParams['axes.prop_cycle'].by_key()['color']"
   ]
  },
  {
   "cell_type": "code",
   "execution_count": 307,
   "metadata": {},
   "outputs": [
    {
     "name": "stdout",
     "output_type": "stream",
     "text": [
      "Removed no burn in\n"
     ]
    },
    {
     "data": {
      "text/plain": [
       "(0.0, 15.0)"
      ]
     },
     "execution_count": 307,
     "metadata": {},
     "output_type": "execute_result"
    },
    {
     "data": {
      "image/png": "[encoded data removed]",
      "text/plain": [
       "<Figure size 443.077x360 with 1 Axes>"
      ]
     },
     "metadata": {
      "needs_background": "light"
     },
     "output_type": "display_data"
    },
    {
     "data": {
      "text/plain": [
       "<Figure size 432x324 with 0 Axes>"
      ]
     },
     "metadata": {},
     "output_type": "display_data"
    }
   ],
   "source": [
    "from getdist import plots, MCSamples\n",
    "import getdist\n",
    "\n",
    "samps_dm = samples[:, 0] / np.mean(npr.data) * 100\n",
    "samps_ps = samples[:, 5] / np.mean(npr.data) * 100\n",
    "\n",
    "samps = np.transpose(np.array([samps_dm, samps_ps]))\n",
    "\n",
    "fig, ax = plt.subplots()\n",
    "\n",
    "g = plots.get_single_plotter()\n",
    "samps_inst = MCSamples(samples=samps, names = ['blah','blah1'], labels = ['blah','blah1'])\n",
    "g.plot_2d(samps_inst, 'blah', 'blah1', filled=True, ax=ax, alphas=[0.5], colors=[cols_default[0]])\n",
    "ax.set_xlim(0, 15)\n",
    "ax.set_ylim(0, 15)"
   ]
  },
  {
   "cell_type": "code",
   "execution_count": null,
   "metadata": {},
   "outputs": [],
   "source": []
  }
 ],
 "metadata": {
  "kernelspec": {
   "display_name": "Python [conda env:root] *",
   "language": "python",
   "name": "conda-root-py"
  },
  "language_info": {
   "codemirror_mode": {
    "name": "ipython",
    "version": 3
   },
   "file_extension": ".py",
   "mimetype": "text/x-python",
   "name": "python",
   "nbconvert_exporter": "python",
   "pygments_lexer": "ipython3",
   "version": "3.7.3"
  }
 },
 "nbformat": 4,
 "nbformat_minor": 2
}
