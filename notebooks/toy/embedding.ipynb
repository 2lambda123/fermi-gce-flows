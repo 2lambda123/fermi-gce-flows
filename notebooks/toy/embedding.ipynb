{
 "cells": [
  {
   "cell_type": "code",
   "execution_count": 1,
   "metadata": {},
   "outputs": [],
   "source": [
    "import matplotlib.pyplot as plt\n",
    "import numpy as np\n",
    "import torch\n",
    "import torch.nn as nn \n",
    "import torch.nn.functional as F \n",
    "from sbi import utils\n",
    "from sbi import inference\n",
    "from sbi.inference.base import infer\n",
    "\n",
    "import numpy as np\n",
    "\n",
    "# set seed for numpy and torch\n",
    "seed = 42\n",
    "np.random.seed(seed)\n",
    "torch.manual_seed(seed)\n",
    "\n",
    "\n",
    "%matplotlib inline\n",
    "%load_ext autoreload\n",
    "%autoreload 2"
   ]
  },
  {
   "cell_type": "code",
   "execution_count": 2,
   "metadata": {},
   "outputs": [],
   "source": [
    "from astropy.convolution import convolve, Gaussian2DKernel\n",
    "\n",
    "def _draw_counts(n_exp, s_min, s_max, beta):\n",
    "    \"\"\"\n",
    "    Draw subhalo masses from SHMF with slope `beta` and min/max masses `m_sub_min` and `m_sub_max` . Stolen from:\n",
    "    https://stackoverflow.com/questions/31114330/python-generating-random-numbers-from-a-power-law-distribution\n",
    "    \"\"\"\n",
    "    n_sub = np.random.poisson(n_exp)\n",
    "    u = np.random.uniform(0, 1, size=n_sub)\n",
    "    s_low_u, s_high_u = s_min ** (beta + 1), s_max ** (beta + 1)\n",
    "    return n_sub, (s_low_u + (s_high_u - s_low_u) * u) ** (1.0 / (beta + 1.0))\n",
    "\n",
    "def _convolve_psf(image, fwhm_psf=2., pixel_size=1):\n",
    "    \"\"\"\n",
    "    Convolve input map of pixel_size with Gaussian PSF of with FWHM `fwhm_psf`\n",
    "    \"\"\"\n",
    "    sigma_psf = fwhm_psf / 2 ** 1.5 * np.sqrt(np.log(2))  # Convert FWHM to standard deviation\n",
    "    kernel = Gaussian2DKernel(x_stddev=1.0 * sigma_psf / pixel_size)\n",
    "\n",
    "    return convolve(image, kernel)\n"
   ]
  },
  {
   "cell_type": "code",
   "execution_count": 3,
   "metadata": {},
   "outputs": [],
   "source": [
    "n_x, n_y = 32, 32"
   ]
  },
  {
   "cell_type": "code",
   "execution_count": 4,
   "metadata": {},
   "outputs": [],
   "source": [
    "def simulator_model(parameter, return_points=False):\n",
    "\n",
    "    alpha, beta = parameter\n",
    "\n",
    "    the_map = np.zeros(n_x * n_y)\n",
    "    n_sub, s_exp = _draw_counts(alpha, 0.1, 100, beta)\n",
    "    pos = np.random.permutation(np.arange(n_x * n_y))[:n_sub]\n",
    "    np.add.at(the_map, pos, s_exp)\n",
    "    the_map = the_map.reshape((n_x, n_y))\n",
    "    the_map = _convolve_psf(the_map)\n",
    "    the_map = np.random.poisson(the_map)\n",
    "    the_map = the_map.reshape(1,-1)\n",
    "    return torch.tensor(the_map, dtype=torch.get_default_dtype())"
   ]
  },
  {
   "cell_type": "code",
   "execution_count": 5,
   "metadata": {},
   "outputs": [
    {
     "data": {
      "text/plain": [
       "<matplotlib.image.AxesImage at 0x7f9852cf58d0>"
      ]
     },
     "execution_count": 5,
     "metadata": {},
     "output_type": "execute_result"
    },
    {
     "data": {
      "image/png": "[encoded data removed]",
      "text/plain": [
       "<Figure size 432x288 with 1 Axes>"
      ]
     },
     "metadata": {
      "needs_background": "light"
     },
     "output_type": "display_data"
    }
   ],
   "source": [
    "plt.imshow(simulator_model([100.1, -0.9]).view(n_x, n_y), origin='lower', cmap='gray')"
   ]
  },
  {
   "cell_type": "code",
   "execution_count": 7,
   "metadata": {},
   "outputs": [],
   "source": [
    "class SummaryNet(nn.Module): \n",
    "\n",
    "    def __init__(self): \n",
    "        super().__init__()\n",
    "        # 2D convolutional layer\n",
    "        self.conv1 = nn.Conv2d(in_channels=1, out_channels=6, kernel_size=5, padding=2)\n",
    "        # Maxpool layer that reduces 32x32 image to 4x4\n",
    "        self.pool = nn.MaxPool2d(kernel_size=8, stride=8)\n",
    "        # Fully connected layer taking as input the 6 flattened output arrays from the maxpooling layer\n",
    "        self.fc = nn.Linear(in_features=6*4*4, out_features=8) \n",
    "\n",
    "    def forward(self, x):\n",
    "        x = x.view(-1, 1, 32, 32)\n",
    "        x = self.pool(F.relu(self.conv1(x)))\n",
    "        x = x.view(-1, 6*4*4)\n",
    "        x = F.relu(self.fc(x))\n",
    "        return x\n",
    "\n",
    "embedding_net_og = SummaryNet()\n"
   ]
  },
  {
   "cell_type": "code",
   "execution_count": 8,
   "metadata": {},
   "outputs": [],
   "source": [
    "class Net(nn.Module):\n",
    "    def __init__(self):\n",
    "        super(Net, self).__init__()\n",
    "        self.conv1 = nn.Conv2d(1, 6, 5)\n",
    "        self.pool = nn.MaxPool2d(2, 2)\n",
    "        self.conv2 = nn.Conv2d(6, 16, 5)\n",
    "        self.fc1 = nn.Linear(16 * 5 * 5, 120)\n",
    "        self.fc2 = nn.Linear(120, 84)\n",
    "        self.fc3 = nn.Linear(84, 10)\n",
    "\n",
    "    def forward(self, x):\n",
    "        x = x.view(-1, 1, 32, 32)\n",
    "        x = self.pool(F.relu(self.conv1(x)))\n",
    "        x = self.pool(F.relu(self.conv2(x)))\n",
    "        x = x.view(-1, 16 * 5 * 5)\n",
    "        x = F.relu(self.fc1(x))\n",
    "        x = F.relu(self.fc2(x))\n",
    "        x = F.relu(self.fc3(x))\n",
    "        return x\n",
    "\n",
    "embedding_net = Net()"
   ]
  },
  {
   "cell_type": "code",
   "execution_count": 16,
   "metadata": {},
   "outputs": [
    {
     "data": {
      "text/plain": [
       "torch.Size([1, 1024])"
      ]
     },
     "execution_count": 16,
     "metadata": {},
     "output_type": "execute_result"
    }
   ],
   "source": [
    "simulator_model([100.1, -0.9]).shape"
   ]
  },
  {
   "cell_type": "code",
   "execution_count": 15,
   "metadata": {},
   "outputs": [
    {
     "data": {
      "text/plain": [
       "torch.Size([1, 8])"
      ]
     },
     "execution_count": 15,
     "metadata": {},
     "output_type": "execute_result"
    }
   ],
   "source": [
    "embedding_net_og(simulator_model([100.1, -0.9])).shape"
   ]
  },
  {
   "cell_type": "code",
   "execution_count": 114,
   "metadata": {},
   "outputs": [],
   "source": [
    "from torchvision import models\n",
    "from torchsummary import summary"
   ]
  },
  {
   "cell_type": "code",
   "execution_count": 116,
   "metadata": {},
   "outputs": [
    {
     "name": "stdout",
     "output_type": "stream",
     "text": [
      "----------------------------------------------------------------\n",
      "        Layer (type)               Output Shape         Param #\n",
      "================================================================\n",
      "            Conv2d-1            [-1, 6, 28, 28]             156\n",
      "         MaxPool2d-2            [-1, 6, 14, 14]               0\n",
      "            Conv2d-3           [-1, 16, 10, 10]           2,416\n",
      "         MaxPool2d-4             [-1, 16, 5, 5]               0\n",
      "            Linear-5                  [-1, 120]          48,120\n",
      "            Linear-6                   [-1, 84]          10,164\n",
      "            Linear-7                   [-1, 10]             850\n",
      "================================================================\n",
      "Total params: 61,706\n",
      "Trainable params: 61,706\n",
      "Non-trainable params: 0\n",
      "----------------------------------------------------------------\n",
      "Input size (MB): 0.00\n",
      "Forward/backward pass size (MB): 0.06\n",
      "Params size (MB): 0.24\n",
      "Estimated Total Size (MB): 0.30\n",
      "----------------------------------------------------------------\n"
     ]
    }
   ],
   "source": [
    "summary(embedding_net, input_size=(1, 1024))"
   ]
  },
  {
   "cell_type": "code",
   "execution_count": 17,
   "metadata": {},
   "outputs": [],
   "source": [
    "# set prior distribution for the parameters \n",
    "prior = utils.BoxUniform(low=torch.tensor([0.0, -1.99]), \n",
    "                             high=torch.tensor([700.0, -0.2]))                           \n",
    "\n",
    "# make a SBI-wrapper on the simulator object for compatibility\n",
    "simulator_wrapper, prior = inference.prepare_for_sbi(simulator_model, prior)\n",
    "\n",
    "# instantiate the neural density estimator\n",
    "neural_posterior = utils.posterior_nn(model='maf', \n",
    "                                      embedding_net=embedding_net,\n",
    "                                      hidden_features=10,\n",
    "                                      num_transforms=4)\n",
    "\n",
    "# setup the inference procedure with the SNPE-C procedure\n",
    "inference_inst = inference.SNPE(simulator_wrapper, prior, \n",
    "                           density_estimator=neural_posterior, \n",
    "                           show_progress_bars=True)\n",
    "\n",
    "# run the inference procedure on one round and 10000 simulated data points\n",
    "posterior = inference_inst(num_simulations=10000)"
   ]
  },
  {
   "cell_type": "code",
   "execution_count": 86,
   "metadata": {},
   "outputs": [
    {
     "data": {
      "application/vnd.jupyter.widget-view+json": {
       "model_id": "3a0a8a9a15e54925bc3b01ccfc9e87bc",
       "version_major": 2,
       "version_minor": 0
      },
      "text/plain": [
       "HBox(children=(IntProgress(value=0, description='Drawing 50000 posterior samples', max=50000, style=ProgressSt…"
      ]
     },
     "metadata": {},
     "output_type": "display_data"
    },
    {
     "name": "stdout",
     "output_type": "stream",
     "text": [
      "\n"
     ]
    }
   ],
   "source": [
    "# generate posterior samples\n",
    "true_parameter = torch.tensor([400, -0.4])\n",
    "x_observed = simulator_model(true_parameter)\n",
    "samples = posterior.set_default_x(x_observed).sample((50000,))"
   ]
  },
  {
   "cell_type": "code",
   "execution_count": 87,
   "metadata": {},
   "outputs": [
    {
     "data": {
      "image/png": "[encoded data removed]",
      "text/plain": [
       "<Figure size 540x460.8 with 4 Axes>"
      ]
     },
     "metadata": {
      "needs_background": "light"
     },
     "output_type": "display_data"
    }
   ],
   "source": [
    "# create the figure\n",
    "fig, ax = utils.pairplot(samples, \n",
    "                             points=true_parameter,\n",
    "                             labels=['r', r'$\\theta$'], \n",
    "                             limits=[[0, 600], [-2, 0]],\n",
    "                             points_colors='r',\n",
    "                             points_offdiag={'markersize': 6},\n",
    "                             fig_size=[7.5, 6.4])\n"
   ]
  },
  {
   "cell_type": "code",
   "execution_count": null,
   "metadata": {},
   "outputs": [],
   "source": []
  }
 ],
 "metadata": {
  "kernelspec": {
   "display_name": "Python 3",
   "language": "python",
   "name": "python3"
  },
  "language_info": {
   "codemirror_mode": {
    "name": "ipython",
    "version": 3
   },
   "file_extension": ".py",
   "mimetype": "text/x-python",
   "name": "python",
   "nbconvert_exporter": "python",
   "pygments_lexer": "ipython3",
   "version": "3.7.3"
  }
 },
 "nbformat": 4,
 "nbformat_minor": 2
}
